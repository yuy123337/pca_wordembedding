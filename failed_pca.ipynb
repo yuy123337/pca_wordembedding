{
 "cells": [
  {
   "cell_type": "code",
   "execution_count": 1,
   "id": "98c27e1e",
   "metadata": {
    "scrolled": true
   },
   "outputs": [
    {
     "name": "stderr",
     "output_type": "stream",
     "text": [
      "Setting default log level to \"WARN\".\n",
      "To adjust logging level use sc.setLogLevel(newLevel). For SparkR, use setLogLevel(newLevel).\n",
      "24/11/02 21:07:18 WARN NativeCodeLoader: Unable to load native-hadoop library for your platform... using builtin-java classes where applicable\n"
     ]
    }
   ],
   "source": [
    "import os\n",
    "from pyspark.sql import SparkSession\n",
    "\n",
    "# Set environment variables\n",
    "os.environ['JAVA_HOME'] = '/home/ymusic7/.conda/envs/myenv'\n",
    "os.environ['PYSPARK_PYTHON'] = '/home/ymusic7/.conda/envs/myenv/bin/python'\n",
    "os.environ['PYSPARK_DRIVER_PYTHON'] = '/home/ymusic7/.conda/envs/myenv/bin/python'\n",
    "\n",
    "# Initialize Spark session with correct Python paths\n",
    "spark = SparkSession.builder \\\n",
    "    .appName(\"restaurant_binary_analysis\") \\\n",
    "    .config(\"spark.pyspark.python\", \"/home/ymusic7/.conda/envs/myenv/bin/python\") \\\n",
    "    .config(\"spark.pyspark.driver.python\", \"/home/ymusic7/.conda/envs/myenv/bin/python\") \\\n",
    "    .getOrCreate()\n",
    "\n",
    "spark.sparkContext.setLogLevel(\"ERROR\")  # or \"INFO\" for more details\n",
    "\n"
   ]
  },
  {
   "cell_type": "code",
   "execution_count": 2,
   "id": "fd7efde8",
   "metadata": {},
   "outputs": [
    {
     "name": "stdout",
     "output_type": "stream",
     "text": [
      "/home/ymusic7/.conda/envs/myenv/bin/python\n",
      "/home/ymusic7/.conda/envs/myenv\n"
     ]
    }
   ],
   "source": [
    "import os\n",
    "print(os.environ['PYSPARK_PYTHON'])\n",
    "print(os.environ['JAVA_HOME'])\n"
   ]
  },
  {
   "cell_type": "code",
   "execution_count": 3,
   "id": "195a2fb6-c847-492c-9630-9e0aa9a3c505",
   "metadata": {},
   "outputs": [
    {
     "name": "stdout",
     "output_type": "stream",
     "text": [
      "/home/ymusic7/.conda/envs/myenv\n"
     ]
    }
   ],
   "source": [
    "import os\n",
    "print(os.environ.get('JAVA_HOME'))\n"
   ]
  },
  {
   "cell_type": "code",
   "execution_count": 7,
   "id": "02c30394-e3d1-4a4f-823a-f72457aad611",
   "metadata": {},
   "outputs": [
    {
     "data": {
      "text/plain": [
       "['name', 'lat', 'lon', 'text', 'date', 'score', 'keyword', 'addr', 'language']"
      ]
     },
     "execution_count": 7,
     "metadata": {},
     "output_type": "execute_result"
    }
   ],
   "source": [
    "from pyspark import SparkContext, SparkConf\n",
    "from pyspark.sql import SparkSession, Row\n",
    "from pyspark.ml.linalg import Vectors\n",
    "from pyspark.ml.feature import StandardScaler, PCA\n",
    "from pyspark.ml.clustering import KMeans\n",
    "from pyspark.ml.evaluation import ClusteringEvaluator\n",
    "from pyspark.mllib.feature import StandardScaler as StandardScalerRDD\n",
    "from pyspark.mllib.linalg.distributed import RowMatrix\n",
    "import pyspark.sql.functions as F\n",
    "import csv\n",
    "\n",
    "\n",
    "# Read Spotify data\n",
    "df = spark.read.csv('/home/ymusic7/metro_restaurants/combined.csv', header=True)\n",
    "\n",
    "# Note\n",
    "df.columns\n",
    "\n",
    "\n",
    "\n"
   ]
  },
  {
   "cell_type": "code",
   "execution_count": 6,
   "id": "6aae1ef0",
   "metadata": {},
   "outputs": [
    {
     "data": {
      "text/plain": [
       "[Row(name='Koi Sushi', lat='44.6048264', lon='-79.3724546', text=\"I've been here several times and am never disappointed. Food is served up fresh in record time. On average you can expect a pickup order to be bagged and ready in 20 minutes (30 min during dinner).  Staff are always friendly.\", date='2021-01-29 23:56:06', score='5', keyword='japanese restaurant', addr='660 Atherley Rd #1,2, Orillia, ON L3V 1P2, Canada', language='en'),\n",
       " Row(name='Koi Sushi', lat='44.6048264', lon='-79.3724546', text=\"Koi sushi has been great every time I've gone.If you want a good deal go for lunch during Thursday. Or even dinner, we were able to feed three people all you can eat for only $106. The staff is super good and friendly!I always enjoy the shrimp tempura and the salmon sushi.\", date='2024-05-27 00:55:48', score='5', keyword='japanese restaurant', addr='660 Atherley Rd #1,2, Orillia, ON L3V 1P2, Canada', language='en'),\n",
       " Row(name='Hanabi Japanese Restaurant', lat='44.583675', lon='-79.8655205', text='Very cute little spot, extremely friendly service and great food. I’ve only even gotten take out but the restaurant does also have a really nice seating area for dinning in. Highly recommend checking it out if you have not already!', date='2024-09-13 11:21:05', score='5', keyword='japanese restaurant', addr='5 Queen St E, Elmvale, ON L0L 1P0, Canada', language='en'),\n",
       " Row(name='Sushi Zone & Ramen Stop', lat='45.427738', lon='-75.692325', text='又实惠又好吃这个价格能吃到金枪鱼盖饭真的是十分感动而且配菜还那么新鲜！', date='2024-09-29 13:34:47', score='5', keyword='japanese restaurant', addr='55 Byward Market Square, Ottawa, ON K1N 9J7, Canada', language='zh-cn'),\n",
       " Row(name='2go sushi', lat='44.6069384', lon='-80.5923143', text='Cozy restaurant with nice owners and delicious sushi! We called to order a maki tray (32 pieces) and it was ready to pick up in less than 20 mins. The portion was huge, and our favorite roll was the spicy salmon 🍣The only thing I wish could have been better is that there could have been more variety of rolls in the maki tray — We thought maybe 5 or 6 types of rolls would be nice and the rolls’ size can be a bit smaller, just so we can try different things.', date='2024-09-03 12:24:22', score='5', keyword='japanese restaurant', addr='16 Trowbridge St W #1, Meaford, ON N4L 1N2, Canada', language='en')]"
      ]
     },
     "execution_count": 6,
     "metadata": {},
     "output_type": "execute_result"
    }
   ],
   "source": [
    "df.head(5)"
   ]
  },
  {
   "cell_type": "code",
   "execution_count": 12,
   "id": "e1195dea",
   "metadata": {},
   "outputs": [
    {
     "name": "stdout",
     "output_type": "stream",
     "text": [
      "root\n",
      " |-- name: string (nullable = true)\n",
      " |-- lat: string (nullable = true)\n",
      " |-- lon: string (nullable = true)\n",
      " |-- text: string (nullable = true)\n",
      " |-- date: string (nullable = true)\n",
      " |-- score: string (nullable = true)\n",
      " |-- keyword: string (nullable = true)\n",
      " |-- addr: string (nullable = true)\n",
      " |-- language: string (nullable = true)\n",
      "\n"
     ]
    }
   ],
   "source": [
    "df.printSchema()\n",
    "\n"
   ]
  },
  {
   "cell_type": "code",
   "execution_count": 8,
   "id": "12872c29-47f8-46c6-97a6-c92d8f1ee59a",
   "metadata": {},
   "outputs": [
    {
     "name": "stdout",
     "output_type": "stream",
     "text": [
      "+--------------------+----------+------------------+--------------------+-------------------+-----+-------------------+--------------------+--------+\n",
      "|                name|       lat|               lon|                text|               date|score|            keyword|                addr|language|\n",
      "+--------------------+----------+------------------+--------------------+-------------------+-----+-------------------+--------------------+--------+\n",
      "|           Koi Sushi|44.6048264|       -79.3724546|I've been here se...|2021-01-29 23:56:06|    5|japanese restaurant|660 Atherley Rd #...|      en|\n",
      "|           Koi Sushi|44.6048264|       -79.3724546|Koi sushi has bee...|2024-05-27 00:55:48|    5|japanese restaurant|660 Atherley Rd #...|      en|\n",
      "|Hanabi Japanese R...| 44.583675|       -79.8655205|Very cute little ...|2024-09-13 11:21:05|    5|japanese restaurant|5 Queen St E, Elm...|      en|\n",
      "|           2go sushi|44.6069384|       -80.5923143|Cozy restaurant w...|2024-09-03 12:24:22|    5|japanese restaurant|16 Trowbridge St ...|      en|\n",
      "|Hanabi Japanese C...|45.4121956|-75.69391809999999|Such great food a...|2024-04-29 17:50:57|    5|japanese restaurant|434 Bank St, Otta...|      en|\n",
      "+--------------------+----------+------------------+--------------------+-------------------+-----+-------------------+--------------------+--------+\n",
      "only showing top 5 rows\n",
      "\n"
     ]
    },
    {
     "name": "stderr",
     "output_type": "stream",
     "text": [
      "[Stage 3:>                                                          (0 + 8) / 8]\r"
     ]
    },
    {
     "name": "stdout",
     "output_type": "stream",
     "text": [
      "Number of reviews in English: 480060\n"
     ]
    },
    {
     "name": "stderr",
     "output_type": "stream",
     "text": [
      "                                                                                \r"
     ]
    }
   ],
   "source": [
    "import pyspark.sql.functions as F\n",
    "\n",
    "# Filter DataFrame where language is English\n",
    "df_english = df.filter(F.col('language') == 'en')\n",
    "\n",
    "df_english.show(5)\n",
    "print(f\"Number of reviews in English: {df_english.count()}\")\n"
   ]
  },
  {
   "cell_type": "code",
   "execution_count": 9,
   "id": "933f30c5",
   "metadata": {},
   "outputs": [],
   "source": [
    "import os\n",
    "from pyspark.sql import SparkSession\n",
    "\n",
    "# Set environment variables\n",
    "os.environ['JAVA_HOME'] = '/home/ymusic7/.conda/envs/myenv'\n",
    "os.environ['PYSPARK_PYTHON'] = '/home/ymusic7/.conda/envs/myenv/bin/python'\n",
    "os.environ['PYSPARK_DRIVER_PYTHON'] = '/home/ymusic7/.conda/envs/myenv/bin/python'\n",
    "\n",
    "# Start Spark session\n",
    "spark = SparkSession.builder \\\n",
    "    .appName(\"restaurant_binary_analysis\") \\\n",
    "    .config(\"spark.pyspark.python\", \"/home/ymusic7/.conda/envs/myenv/bin/python\") \\\n",
    "    .config(\"spark.pyspark.driver.python\", \"/home/ymusic7/.conda/envs/myenv/bin/python\") \\\n",
    "    .getOrCreate()\n"
   ]
  },
  {
   "cell_type": "code",
   "execution_count": 10,
   "id": "ab189588",
   "metadata": {},
   "outputs": [
    {
     "name": "stdout",
     "output_type": "stream",
     "text": [
      "['/home/ymusic7/nltk_data', '/home/ymusic7/.conda/envs/myenv/nltk_data', '/home/ymusic7/.conda/envs/myenv/share/nltk_data', '/home/ymusic7/.conda/envs/myenv/lib/nltk_data', '/usr/share/nltk_data', '/usr/local/share/nltk_data', '/usr/lib/nltk_data', '/usr/local/lib/nltk_data']\n"
     ]
    }
   ],
   "source": [
    "import nltk\n",
    "print(nltk.data.path)\n"
   ]
  },
  {
   "cell_type": "code",
   "execution_count": 11,
   "id": "ccbcfe3f",
   "metadata": {},
   "outputs": [
    {
     "name": "stdout",
     "output_type": "stream",
     "text": [
      "Stopwords directory exists. Contents:\n",
      "['README', 'spanish', 'catalan', 'norwegian', 'kazakh', 'indonesian', 'arabic', 'greek', 'hebrew', 'slovene', 'russian', 'dutch', 'danish', 'german', 'swedish', 'italian', 'nepali', 'portuguese', 'finnish', 'english', 'hungarian', 'french', 'azerbaijani', 'bengali', 'hinglish', 'basque', 'turkish', 'chinese', 'romanian', 'tajik']\n"
     ]
    }
   ],
   "source": [
    "import os\n",
    "\n",
    "# Check the stopwords directory\n",
    "stopwords_dir = '/home/ymusic7/.conda/envs/myenv/nltk_data/corpora/stopwords'\n",
    "if os.path.exists(stopwords_dir):\n",
    "    print(\"Stopwords directory exists. Contents:\")\n",
    "    print(os.listdir(stopwords_dir))\n",
    "else:\n",
    "    print(\"Stopwords directory does not exist.\")\n"
   ]
  },
  {
   "cell_type": "code",
   "execution_count": 12,
   "id": "f86da937",
   "metadata": {
    "scrolled": true
   },
   "outputs": [
    {
     "name": "stdout",
     "output_type": "stream",
     "text": [
      "English Stopwords: {'because', 'hasn', 'he', \"doesn't\", 'himself', 'what', \"hasn't\", 'up', 'haven', 'at', 'why', 'where', 'against', 'yours', 'she', 'how', 'in', \"she's\", 'd', 'should', 'wouldn', 'during', 'whom', \"shouldn't\", 'themselves', \"weren't\", \"won't\", 'o', 'll', 'if', 'other', \"you've\", 'didn', 'further', 's', \"wouldn't\", 'they', 'isn', 'an', 'having', 'is', 'such', 'so', 're', 'no', 'your', 'm', 'mightn', 'be', 'now', \"haven't\", \"you're\", 'under', 'does', 'below', 'couldn', 'was', 'been', 'until', \"should've\", 'ma', 'before', 'nor', 'with', 've', 'these', \"you'd\", 'them', 'by', 'off', 'am', 'you', 'i', 'to', \"shan't\", 'wasn', 'do', 'a', 'our', 'here', 'about', 'then', 'ourselves', 'don', 'when', 'are', 't', 'most', 'through', \"you'll\", \"hadn't\", 'only', \"that'll\", 'doing', 'her', 'ours', 'own', \"mustn't\", 'theirs', \"needn't\", 'over', 'not', \"didn't\", 'has', 'on', 'all', 'while', 'same', 'just', 'as', 'yourselves', \"couldn't\", \"mightn't\", 'weren', 'my', 'and', 'there', 'me', \"wasn't\", \"aren't\", 'than', 'mustn', 'those', 'did', 'very', 'being', 'each', 'above', 'y', 'aren', 'out', 'once', \"don't\", 'it', 'for', 'will', 'shan', 'yourself', 'more', 'him', 'too', 'any', \"isn't\", \"it's\", 'have', 'this', 'between', 'doesn', 'we', 'their', 'some', 'hadn', 'ain', 'its', 'which', 'after', 'down', 'needn', 'but', 'of', 'shouldn', 'herself', 'that', 'who', 'myself', 'again', 'can', 'were', 'hers', 'itself', 'or', 'both', 'the', 'few', 'won', 'his', 'had', 'from', 'into'}\n"
     ]
    }
   ],
   "source": [
    "from nltk.corpus import stopwords\n",
    "\n",
    "# Load the English stopwords\n",
    "english_stopwords = set(stopwords.words('english'))\n",
    "\n",
    "# Now you can use 'english_stopwords' in your cleaning process\n",
    "print(\"English Stopwords:\", english_stopwords)\n"
   ]
  },
  {
   "cell_type": "code",
   "execution_count": 13,
   "id": "9a72d47f",
   "metadata": {},
   "outputs": [
    {
     "name": "stdout",
     "output_type": "stream",
     "text": [
      "Japanese Positive Reviews:\n"
     ]
    },
    {
     "name": "stderr",
     "output_type": "stream",
     "text": [
      "                                                                                \r"
     ]
    },
    {
     "name": "stdout",
     "output_type": "stream",
     "text": [
      "+--------------------------+---------------------------------------------------------------------------------------------------------------------------------------------------------------------------------------------------------------------------------------------------------------------------------------------+-----+-------------------+\n",
      "|name                      |filtered_text                                                                                                                                                                                                                                                                                |score|keyword            |\n",
      "+--------------------------+---------------------------------------------------------------------------------------------------------------------------------------------------------------------------------------------------------------------------------------------------------------------------------------------+-----+-------------------+\n",
      "|Koi Sushi                 |[ive, several, times, never, disappointed, food, served, fresh, record, time, average, expect, pickup, order, bagged, ready, minutes, 30, min, dinner, , staff, always, friendly]                                                                                                            |5    |japanese restaurant|\n",
      "|Koi Sushi                 |[koi, sushi, great, every, time, ive, goneif, want, good, deal, go, lunch, thursday, even, dinner, able, feed, people, eat, 106, staff, super, friendlyi, always, enjoy, shrimp, tempura, salmon]                                                                                            |5    |japanese restaurant|\n",
      "|Hanabi Japanese Restaurant|[cute, little, spot, extremely, friendly, service, great, food, ive, even, gotten, take, restaurant, also, really, nice, seating, area, dinning, in, highly, recommend, checking, already]                                                                                                   |5    |japanese restaurant|\n",
      "|Sushi Zone & Ramen Stop   |[又实惠又好吃这个价格能吃到金枪鱼盖饭真的是十分感动而且配菜还那么新鲜]                                                                                                                                                                                                                       |5    |japanese restaurant|\n",
      "|2go sushi                 |[cozy, restaurant, nice, owners, delicious, sushi, called, order, maki, tray, 32, pieces, ready, pick, less, mins, portion, huge, favorite, roll, spicy, salmon, the, thing, wish, could, better, variety, rolls, , thought, maybe, types, would, size, bit, smaller, try, different, things]|5    |japanese restaurant|\n",
      "+--------------------------+---------------------------------------------------------------------------------------------------------------------------------------------------------------------------------------------------------------------------------------------------------------------------------------------+-----+-------------------+\n",
      "only showing top 5 rows\n",
      "\n",
      "Japanese Negative Reviews:\n",
      "+------------------+---------------------------------------------------------------------------------------------------------------------------------------------------------------------------------------------------------------------------------------------------------------------------------------------------------------------------------------------------------------------------------------------------------------------------------------------------------------------------------------+-----+-------------------+\n",
      "|name              |filtered_text                                                                                                                                                                                                                                                                                                                                                                                                                                                                          |score|keyword            |\n",
      "+------------------+---------------------------------------------------------------------------------------------------------------------------------------------------------------------------------------------------------------------------------------------------------------------------------------------------------------------------------------------------------------------------------------------------------------------------------------------------------------------------------------+-----+-------------------+\n",
      "|Sansotei Ramen    |[点两碗面让我等了15分钟, 还是在没什么人吃的时候点的]                                                                                                                                                                                                                                                                                                                                                                                                                                   |2    |japanese restaurant|\n",
      "|Koi Sushi         |[ive, come, probably, times, past, years, takeout, dine, in, go, sushi, place, never, complaint, food, servicebut, today, all, eat, n, salmon, rotten, got, spicy, roll, nearing, brown, color, tried, piece, spit, tough, bad, tasting, was, sent, back, wasnt, charged, nicethe, chicken, also, cutting, sweet, sour, dark, tasted, fine, dont, think, using, breast, maybe, meat, use, mustve, older, welli, hate, experience, here, favourite, orillia, wont, coming, recommending]|1    |japanese restaurant|\n",
      "|Sushi Kanata      |[worst, sushi, restaurant, ever, to, service, bad, food, expensive, even, friday, evening, person, kitchen, image, slow, serve很差劲的餐厅, 上菜慢, 不好吃, 自己的餐馆有问题老板娘还摆着一张臭脸觉得无所谓, 还很贵, 根本不值, 可惜一颗星已经是最差的评价了要不然他们还要欠我十几个星星的评价老板娘实属带恶人, 实属菜馆, ]                                                                                                                                                              |1    |japanese restaurant|\n",
      "|Sushi Wadasi      |[got, take, , sushi, disappointing, actually, thought, wrong, order, first, turns, really, bad, rolls, inconsistent, ratios, meatveggie, off, would, drive, barrie, going, back, herethe, photo, apparently, california]                                                                                                                                                                                                                                                               |1    |japanese restaurant|\n",
      "|Sushi by the Water|[if, could, give, place, zero, stars, would, sushi, water, complete, disappointment, employees, rude, moment, walked, in, even, charged, bottled, without, mentioning, upfront, old, tasted, disgusting, felt, like, sitting, hours, make, things, worse, stomach, hurt, bad, after, ended, getting, sick, definitely, authentic, despite, might, want, believe, dont, come, unless, risk, sickthere, way, better, spots, there, best, thing, coke]                                    |1    |japanese restaurant|\n",
      "+------------------+---------------------------------------------------------------------------------------------------------------------------------------------------------------------------------------------------------------------------------------------------------------------------------------------------------------------------------------------------------------------------------------------------------------------------------------------------------------------------------------+-----+-------------------+\n",
      "only showing top 5 rows\n",
      "\n",
      "Chinese Positive Reviews:\n",
      "+-----------------------------------+----------------------------------------------------------------------------------------------------------------------------------------------------------------------------------------------------------------------------------------------------------------------------------+-----+------------------+\n",
      "|name                               |filtered_text                                                                                                                                                                                                                                                                     |score|keyword           |\n",
      "+-----------------------------------+----------------------------------------------------------------------------------------------------------------------------------------------------------------------------------------------------------------------------------------------------------------------------------+-----+------------------+\n",
      "|Golden Wok Chinese Restaurant      |[family, loves, eating, here, food, taste, fresh, meal, ordered, came, dessert, well, wonton, soup, great, apps, tasty, presented, wait, long, customer, service, every, restaurant, order, take, out, plated, in, restaurants, ya, gotta, eat, disappointed, ]                   |5    |chinese restaurant|\n",
      "|Double Happiness Chinese Restaurant|[delicious, food, devoured, didnt, time, photograph, thats, always, good, sign, chicken, balls, high, quality, think, its, straight, lean, breast, really, surprised, me, portions, huge, 50, takeout, stretched, meals, were, ever, back, midland, it, could, happen, well, sure]|5    |chinese restaurant|\n",
      "|China House                        |[thought, would, give, place, try, pretty, good, staff, friendly, efficient, think, people, critical, nowadays, hence, negative, reviews, im, wishing, restaurant, great, success, need, like, huntsville]                                                                        |5    |chinese restaurant|\n",
      "|China House Restaurant             |[take, out, , dishes, fresh, tasty, good, portions, recommend, hong, kong, steak, dish, prices, reasonable, small, establishment, operated, owners, food, delicious, friends, years, ago, sit, dinner, liked, different, meal]                                                    |5    |chinese restaurant|\n",
      "|China House                        |[eating, years, grateful, theyre, always, were, craving, canadian, chinese, great, deal, usually, pretty, quick, pick, up]                                                                                                                                                        |4    |chinese restaurant|\n",
      "+-----------------------------------+----------------------------------------------------------------------------------------------------------------------------------------------------------------------------------------------------------------------------------------------------------------------------------+-----+------------------+\n",
      "only showing top 5 rows\n",
      "\n",
      "Chinese Negative Reviews:\n",
      "+-----------------------------------+----------------------------------------------------------------------------------------------------------------------------------------------------------------------------------------------------------------------------------------------------------------------------------------------------------------------------------------------------------------------------------------------------------------------------------------------------------------------------------------------------------------------------+-----+------------------+\n",
      "|name                               |filtered_text                                                                                                                                                                                                                                                                                                                                                                                                                                                                                                               |score|keyword           |\n",
      "+-----------------------------------+----------------------------------------------------------------------------------------------------------------------------------------------------------------------------------------------------------------------------------------------------------------------------------------------------------------------------------------------------------------------------------------------------------------------------------------------------------------------------------------------------------------------------+-----+------------------+\n",
      "|Golden Wok Chinese Restaurant      |[ordered, deliveryrice, dry, bacon, it, asked, mushroom, ricei, also, noodles, vegetables, , something, looked, like, chickendelivery, longer, normalthe, paper, bag, drenched, greasepossibly, egg, rollsthe, taste, food, whole, different, tastetoo, bad]                                                                                                                                                                                                                                                                |2    |chinese restaurant|\n",
      "|Golden Wok Chinese Restaurant      |[disappointed, used, love, quality, , serving, sizes, takeout, menu, here, seems, corners, cut, isnt, nearly, important, ordered, items, house, lo, mein, egg, roll, sesame, chicken, another, type, coming, mind, noodles, flavourlessdefinitely, go, veggie, youre, ordering, worth, almost, 500, extra, dishes, good, stuck, broccoli, look, fullthere, mention, veggies, included, shady, single, fortune, cookie, packet, soy, plum, sauceall, 5000, staff, friendly, however, would, recommend, local, establishments]|2    |chinese restaurant|\n",
      "|Royal Oak Restaurant               |[still, dining, room, postcovidscare, , ive, loyal, customer, decades, job, road, means, caseoutstanding, food, some, best, orillia, longer, access, kick, groin]                                                                                                                                                                                                                                                                                                                                                           |1    |chinese restaurant|\n",
      "|Double Happiness Chinese Restaurant|[went, fir, lunch, special, cent, regular, price, food, okay, restaurant, use, be, half, tables, gone, dirty, sticky, flys, , wipe, dirt, amd, dust, booster, chair, asked, glass, water, got, bottle, charged, it, served, take, put, containers, plastic, forks, disappointed]                                                                                                                                                                                                                                            |2    |chinese restaurant|\n",
      "|Golden Wok Chinese Restaurant      |[worst, meal, ever, had, chicken, breast, slice, thin, cooked, came, like, shoe, leather, even, eat, it, throw, out, , feed, dog, sweet, sour, sauce, jello, tasted, tin, pretty, sure, can, place, must, new, management, food, terrible, manager, call, back, waste, money, here, disgusting, never, eating, again]                                                                                                                                                                                                       |1    |chinese restaurant|\n",
      "+-----------------------------------+----------------------------------------------------------------------------------------------------------------------------------------------------------------------------------------------------------------------------------------------------------------------------------------------------------------------------------------------------------------------------------------------------------------------------------------------------------------------------------------------------------------------------+-----+------------------+\n",
      "only showing top 5 rows\n",
      "\n"
     ]
    }
   ],
   "source": [
    "\n",
    "from pyspark.sql import SparkSession\n",
    "from pyspark.sql.functions import udf, col\n",
    "from pyspark.sql.types import ArrayType, StringType\n",
    "from pyspark.ml.feature import Tokenizer\n",
    "import pyspark.sql.functions as F\n",
    "import re\n",
    "import nltk\n",
    "from nltk.corpus import stopwords\n",
    "\n",
    "# Initialize Spark Session\n",
    "spark = SparkSession.builder \\\n",
    "    .appName(\"RestaurantReviewAnalysis\") \\\n",
    "    .getOrCreate()\n",
    "\n",
    "# Load your initial DataFrame (replace 'your_dataframe' with your actual DataFrame)\n",
    "# df = spark.read.csv(\"path_to_your_data.csv\", header=True, inferSchema=True)\n",
    "\n",
    "# Assuming 'text' is the column with the reviews and 'keyword' contains cuisine information\n",
    "# Create a tokenized DataFrame\n",
    "tokenizer = Tokenizer(inputCol=\"text\", outputCol=\"words\")\n",
    "df_tokenized = tokenizer.transform(df)\n",
    "\n",
    "# Load the English stopwords\n",
    "\n",
    "english_stopwords = set(stopwords.words('english'))\n",
    "\n",
    "# Additional stopwords\n",
    "additional_stopwords = english_stopwords.union({\n",
    "    \"one\", \"two\", \"three\", \"four\", \"five\", \"six\", \"seven\", \n",
    "    \"eight\", \"nine\", \"ten\", \"to\", \"so\", \"thats\", \"then\", \n",
    "    \"for\", \"up\", \"its\", \"well\", \"with\", \"you\", \"your\", \n",
    "    \"i\", \"we\", \"me\", \"my\"\n",
    "})\n",
    "\n",
    "# Function to clean words list\n",
    "def advanced_clean_words(words_list):\n",
    "    if words_list is None:\n",
    "        return []\n",
    "    cleaned = [\n",
    "        re.sub(r'[^\\w\\s]', '', word).lower()\n",
    "        for word in words_list\n",
    "        if word.lower() not in additional_stopwords and not word.isdigit()\n",
    "    ]\n",
    "    seen = set()\n",
    "    unique_words = []\n",
    "    for word in cleaned:\n",
    "        if word not in seen:\n",
    "            seen.add(word)\n",
    "            unique_words.append(word)\n",
    "    return unique_words\n",
    "\n",
    "# Register the UDF\n",
    "clean_words_udf = udf(lambda words: advanced_clean_words(words), ArrayType(StringType()))\n",
    "\n",
    "# Drop rows with nulls in 'words' column before applying the UDF\n",
    "df_tokenized = df_tokenized.na.drop(subset=[\"words\"])  # Drop rows with nulls in 'words'\n",
    "\n",
    "# Apply the UDF to clean the text in the 'words' column and change output column name\n",
    "df_cleaned = df_tokenized.withColumn('filtered_text', clean_words_udf(F.col('words')))\n",
    "\n",
    "# Filter for Japanese and Chinese restaurant reviews\n",
    "df_japanese = df_cleaned.filter(F.col('keyword').contains('japanese restaurant'))\n",
    "df_chinese = df_cleaned.filter(F.col('keyword').contains('chinese restaurant'))\n",
    "\n",
    "# Further divide based on sentiment score\n",
    "df_japanese_positive = df_japanese.filter(F.col('score') > 3).select('name', 'filtered_text', 'score', 'keyword')\n",
    "df_japanese_negative = df_japanese.filter(F.col('score') < 3).select('name', 'filtered_text', 'score', 'keyword')\n",
    "df_chinese_positive = df_chinese.filter(F.col('score') > 3).select('name', 'filtered_text', 'score', 'keyword')\n",
    "df_chinese_negative = df_chinese.filter(F.col('score') < 3).select('name', 'filtered_text', 'score', 'keyword')\n",
    "\n",
    "# Show the first few rows of each DataFrame for verification\n",
    "print(\"Japanese Positive Reviews:\")\n",
    "df_japanese_positive.show(5, truncate=False)\n",
    "\n",
    "print(\"Japanese Negative Reviews:\")\n",
    "df_japanese_negative.show(5, truncate=False)\n",
    "\n",
    "print(\"Chinese Positive Reviews:\")\n",
    "df_chinese_positive.show(5, truncate=False)\n",
    "\n",
    "print(\"Chinese Negative Reviews:\")\n",
    "df_chinese_negative.show(5, truncate=False)\n"
   ]
  },
  {
   "cell_type": "code",
   "execution_count": 11,
   "id": "8d524c04",
   "metadata": {},
   "outputs": [],
   "source": [
    "from pyspark.sql import SparkSession\n",
    "from pyspark.sql.functions import concat_ws\n",
    "from pyspark.ml.feature import HashingTF, IDF\n",
    "from pyspark.ml.feature import PCA\n",
    "from pyspark.ml.linalg import Vectors\n",
    "from pyspark.sql import functions as F\n"
   ]
  },
  {
   "cell_type": "code",
   "execution_count": 12,
   "id": "1108f706",
   "metadata": {
    "scrolled": true
   },
   "outputs": [
    {
     "name": "stdout",
     "output_type": "stream",
     "text": [
      "root\n",
      " |-- name: string (nullable = true)\n",
      " |-- lat: string (nullable = true)\n",
      " |-- lon: string (nullable = true)\n",
      " |-- text: string (nullable = true)\n",
      " |-- date: string (nullable = true)\n",
      " |-- score: string (nullable = true)\n",
      " |-- keyword: string (nullable = true)\n",
      " |-- addr: string (nullable = true)\n",
      " |-- language: string (nullable = true)\n",
      " |-- words: array (nullable = true)\n",
      " |    |-- element: string (containsNull = true)\n",
      " |-- filtered_text: array (nullable = true)\n",
      " |    |-- element: string (containsNull = true)\n",
      "\n"
     ]
    }
   ],
   "source": [
    "df_cleaned.printSchema()\n"
   ]
  },
  {
   "cell_type": "code",
   "execution_count": 13,
   "id": "a2196060",
   "metadata": {},
   "outputs": [
    {
     "name": "stdout",
     "output_type": "stream",
     "text": [
      "root\n",
      " |-- name: string (nullable = true)\n",
      " |-- lat: string (nullable = true)\n",
      " |-- lon: string (nullable = true)\n",
      " |-- text: string (nullable = true)\n",
      " |-- date: string (nullable = true)\n",
      " |-- score: string (nullable = true)\n",
      " |-- keyword: string (nullable = true)\n",
      " |-- addr: string (nullable = true)\n",
      " |-- language: string (nullable = true)\n",
      " |-- words: array (nullable = true)\n",
      " |    |-- element: string (containsNull = true)\n",
      " |-- filtered_text: array (nullable = true)\n",
      " |    |-- element: string (containsNull = true)\n",
      "\n"
     ]
    }
   ],
   "source": [
    "from pyspark.sql import functions as F\n",
    "\n",
    "# Remove null values from the 'filtered_text' array\n",
    "df_cleaned = df_cleaned.withColumn(\n",
    "    \"filtered_text\", \n",
    "    F.expr(\"filter(filtered_text, x -> x is not null)\")\n",
    ")\n",
    "df_cleaned = df_cleaned.filter(F.size(F.col(\"filtered_text\")) > 0)\n",
    "df_cleaned.printSchema()\n",
    "\n",
    "\n"
   ]
  },
  {
   "cell_type": "code",
   "execution_count": 14,
   "id": "978974d7",
   "metadata": {},
   "outputs": [
    {
     "name": "stderr",
     "output_type": "stream",
     "text": [
      "                                                                                \r"
     ]
    },
    {
     "name": "stdout",
     "output_type": "stream",
     "text": [
      "+--------------------------+------------------------------------------------------------------------------------------------------------------------------------------------------------------------------------------------------------------------------------------------------------------------------------------------------------------------------------------------------------------------------------------------------------------------------------------------------------------------------------------------------------------------------------------------------------------------------------------------------------------------------------------------------------------------------------------------------------------------------------------------------------------------------------------------------------------------------------------------------------------------------------------------------------------------------------------------------------------------+\n",
      "|name                      |features                                                                                                                                                                                                                                                                                                                                                                                                                                                                                                                                                                                                                                                                                                                                                                                                                                                                                                                                                                |\n",
      "+--------------------------+------------------------------------------------------------------------------------------------------------------------------------------------------------------------------------------------------------------------------------------------------------------------------------------------------------------------------------------------------------------------------------------------------------------------------------------------------------------------------------------------------------------------------------------------------------------------------------------------------------------------------------------------------------------------------------------------------------------------------------------------------------------------------------------------------------------------------------------------------------------------------------------------------------------------------------------------------------------------+\n",
      "|Koi Sushi                 |(10000,[86,281,626,911,1226,1709,2159,2240,2630,3372,3408,3691,4347,6224,6557,7074,8157,8305,8653,9011,9181,9227,9286,9432],[6.285850470404987,3.2254844058614975,6.06759690438497,3.6379041933724827,2.8927139456141657,2.119137979805813,6.110156518803765,3.101717593980659,4.094742120086204,1.317605133858138,6.985113877982369,4.885178260394019,7.308179454323466,2.048391514498514,4.898032879744575,1.9605071113910388,2.082432780610265,3.3995520378964583,0.8291102040861856,2.1918108327164276,5.2036319915125535,4.483476799935159,4.45522213227756,2.666072778723828])                                                                                                                                                                                                                                                                                                                                                                                    |\n",
      "|Koi Sushi                 |(10000,[750,912,1433,1466,1805,2240,3496,4043,4263,5207,5748,5881,6168,6224,6406,6435,6451,6731,6801,7051,7276,7530,7712,8157,9011,9378,9432,9681],[1.0911167438092937,1.0107736462117756,4.772332679849626,5.909253346297675,3.837951537100232,3.101717593980659,4.708003912252415,3.193146427077012,3.3887264923915357,9.08313180523514,7.035438961869884,3.3882219090825374,1.3091167279844127,2.048391514498514,3.0133182917161814,2.9670189535620475,2.3576780832469546,3.660607635232917,2.890156006940062,8.053512388053981,2.8261349403211615,9.30627535654935,3.730799850380865,2.082432780610265,2.1918108327164276,7.406035244327224,2.666072778723828,2.7957380370873004])                                                                                                                                                                                                                                                                                  |\n",
      "|Hanabi Japanese Restaurant|(10000,[129,349,594,750,855,1424,1590,1597,1709,2252,2663,2913,3370,3792,3946,4112,4116,5649,6325,6406,8300,8653,9432,9644],[2.192115850257301,4.590011123055671,4.821861371697058,1.0911167438092937,3.4860069834519036,5.647532996855652,2.9436783804137088,4.151179033173353,2.119137979805813,1.2384012031860152,3.4902808912862207,2.6815463384827996,2.2634976096481823,2.5121087966800757,6.514343671466437,2.369871883978666,2.251501916642494,3.120066732648856,3.998007659148145,3.0133182917161814,3.0769018059266844,0.8291102040861856,2.666072778723828,5.693669679791405])                                                                                                                                                                                                                                                                                                                                                                               |\n",
      "|Sushi Zone & Ramen Stop   |(10000,[1491],[8.018421068242711])                                                                                                                                                                                                                                                                                                                                                                                                                                                                                                                                                                                                                                                                                                                                                                                                                                                                                                                                      |\n",
      "|2go sushi                 |(10000,[55,129,495,764,912,1086,1195,1226,1349,1975,1989,2080,2098,2198,2328,2543,2737,2911,2951,3192,3370,3372,3674,3857,3957,3960,4043,4073,4222,4693,4818,6017,6557,6683,6726,7372,7460,7810,8739,9169],[4.831071497021285,2.192115850257301,4.408435556598438,5.396755481339322,1.0107736462117756,2.7623635109845575,4.896511966903868,2.8927139456141657,5.60651778428823,4.833209011194596,3.4654520296323508,3.5867835881879686,4.238551095468967,4.440665834503352,4.789253557337963,3.3404491816213824,5.938979526562876,2.6539770027242566,4.277472758497645,4.673976503173006,2.2634976096481823,1.317605133858138,2.4916638557151183,4.180081721818822,2.5029088433047444,5.420853032918383,3.193146427077012,6.18998612045625,7.889209336762706,2.687452931920646,4.949566529859758,5.477633960060254,4.898032879744575,3.7948647745406046,1.733836674007848,4.907207256020617,4.237764313367012,7.130104188410963,3.2297805602567924,3.8772038879804507])|\n",
      "+--------------------------+------------------------------------------------------------------------------------------------------------------------------------------------------------------------------------------------------------------------------------------------------------------------------------------------------------------------------------------------------------------------------------------------------------------------------------------------------------------------------------------------------------------------------------------------------------------------------------------------------------------------------------------------------------------------------------------------------------------------------------------------------------------------------------------------------------------------------------------------------------------------------------------------------------------------------------------------------------------------+\n",
      "only showing top 5 rows\n",
      "\n",
      "+------------------+----------------------------------------------------------------------------------------------------------------------------------------------------------------------------------------------------------------------------------------------------------------------------------------------------------------------------------------------------------------------------------------------------------------------------------------------------------------------------------------------------------------------------------------------------------------------------------------------------------------------------------------------------------------------------------------------------------------------------------------------------------------------------------------------------------------------------------------------------------------------------------------------------------------------------------------------------------------------------------------------------------------------------------------------------------------------------------------------------------------------------------------------------------------------------------------------------------------------------------------------------------------------------------------------------------------------------------------------------------------------------------------------------------------------------------------------------------------------------------------------------------------------------------------------------------------------------------------------------+\n",
      "|name              |features                                                                                                                                                                                                                                                                                                                                                                                                                                                                                                                                                                                                                                                                                                                                                                                                                                                                                                                                                                                                                                                                                                                                                                                                                                                                                                                                                                                                                                                                                                                                                                                            |\n",
      "+------------------+----------------------------------------------------------------------------------------------------------------------------------------------------------------------------------------------------------------------------------------------------------------------------------------------------------------------------------------------------------------------------------------------------------------------------------------------------------------------------------------------------------------------------------------------------------------------------------------------------------------------------------------------------------------------------------------------------------------------------------------------------------------------------------------------------------------------------------------------------------------------------------------------------------------------------------------------------------------------------------------------------------------------------------------------------------------------------------------------------------------------------------------------------------------------------------------------------------------------------------------------------------------------------------------------------------------------------------------------------------------------------------------------------------------------------------------------------------------------------------------------------------------------------------------------------------------------------------------------------+\n",
      "|Sansotei Ramen    |(10000,[5118,6309],[8.01331308855027,7.846259003887103])                                                                                                                                                                                                                                                                                                                                                                                                                                                                                                                                                                                                                                                                                                                                                                                                                                                                                                                                                                                                                                                                                                                                                                                                                                                                                                                                                                                                                                                                                                                                            |\n",
      "|Koi Sushi         |(10000,[146,183,281,697,740,912,956,960,1135,1369,1685,1831,1964,1991,2069,2297,2335,2465,2532,2643,2663,2687,3133,3165,3480,3635,3659,3674,3792,4043,4409,4447,4683,4723,4760,4818,5133,5150,5371,5447,6010,6151,6327,6372,6390,6408,6431,6451,6470,6579,6734,7276,7956,7977,8117,8130,8305,8430,8442,8653,8739,9275,9432,9653,9806,9832],[4.973129052425445,6.422224314784366,1.694836496072025,4.968790650826846,5.536011038147488,1.2691468301257516,4.79808025496057,5.017580814996278,2.706847193438328,2.403175514379332,3.4518098492146647,6.134542242332585,2.3275711582070926,3.123647721038916,4.77641875817939,3.6542759721010865,3.1120868986378403,5.52840643876227,4.004328375279326,7.415476087794649,2.911231820396518,3.03470023502242,3.710477251800829,6.31686379912654,4.541911448214866,2.0958865859710727,7.320165907990324,2.3932416578550413,2.2944927365295276,2.627984345012603,2.911231820396518,5.281309646425567,4.227059470411157,4.986258343867237,5.201722208507219,3.4117858938406793,3.6121524992898437,2.9834695208157465,4.24579050711722,3.864422950588116,1.854025521716244,4.8699448161902135,6.300334497175329,2.9769509792155047,1.3653889215409052,3.319466246253487,3.694613587827662,1.7812223424572804,4.0568383205512895,8.21398378401242,8.331766819668804,2.1645124176300827,2.1755826413843296,2.4480963023693505,4.600067368371939,2.682352537496097,2.6000449763233617,1.6175962897593323,2.9002306093345447,0.7502383293099192,3.4480183754784024,3.9450636371110206,2.528893442368372,3.400896494041411,3.275521014320496,5.0593502278725735])|\n",
      "|Sushi Kanata      |(10000,[129,332,488,756,796,912,1111,1274,1480,2252,3096,3249,3372,4066,4771,5286,5303,5594,6406,7094,7956,8203,8653,9122,9364],[1.717711685464011,2.566183944107156,3.284317552449832,3.8059104404004382,4.591125430996279,1.2691468301257516,8.465298212293327,7.2757141454194905,3.42187309537408,1.2500582335632289,8.619448892120586,3.2100374780669614,1.1051942393041747,8.465298212293327,7.4667693821822,4.130812522388445,7.192332536480439,2.351932138042991,1.7580866527081584,6.977221156863494,2.1755826413843296,3.521617052994174,0.7502383293099192,7.520836603452476,4.684360613761442])                                                                                                                                                                                                                                                                                                                                                                                                                                                                                                                                                                                                                                                                                                                                                                                                                                                                                                                                                                                          |\n",
      "|Sushi Wadasi      |(10000,[55,855,912,1226,2816,2911,3372,3415,3957,4112,4185,4224,4663,5038,5367,5418,5804,6010,6325,6403,6447,6512,7506,7888,7956,8430,8696],[3.5349437494578737,2.488584787131354,1.2691468301257516,1.5551173060963512,7.233154531000694,1.7979779817354604,1.1051942393041747,6.2065157419576735,2.4018452847185947,2.359230282446341,6.252325277988968,3.8389258186546322,3.2605069037561134,2.376901425009152,5.4139960875845246,4.71747622254594,6.162713119299281,1.854025521716244,3.855851469537975,2.21587469418577,3.5792547957827847,3.234953829331496,7.846259003887103,8.108623268354595,2.1755826413843296,1.6175962897593323,4.335862330259956])                                                                                                                                                                                                                                                                                                                                                                                                                                                                                                                                                                                                                                                                                                                                                                                                                                                                                                                                     |\n",
      "|Sushi by the Water|(10000,[533,731,763,912,992,1301,1685,1964,2080,2235,2540,2543,2589,2663,2911,2989,3330,3356,3382,3401,3420,3429,3525,3783,3824,3834,3857,3924,4043,4122,4242,4584,4714,5009,5160,6276,6390,6406,6602,7083,7460,7699,7712,7750,7863,7956,7977,8109,8130,8794,8845,8996,9007,9071,9391,9673,9785],[4.10310991983911,4.026013962350914,3.112763259840493,1.2691468301257516,4.809089540468939,4.639767238218624,3.4518098492146647,2.3275711582070926,2.3055989590487442,2.4695571084180843,3.4329946187179416,2.3573212777304167,3.1684104385548846,2.911231820396518,1.7979779817354604,4.417246934042071,1.5687483371533504,5.317458160541878,3.746799340998232,5.093088367504424,6.5400073504407485,3.5526433265572748,2.6779627148188445,2.459649030193388,5.441395061772639,3.0788391554195775,3.1871835530628094,4.414756272729619,2.627984345012603,8.108623268354595,3.359352738392746,5.462448470970472,2.994829882155712,4.858248776427023,3.5738755466630487,3.62788316074468,1.3653889215409052,1.7580866527081584,3.5760237752013384,3.144381013828049,3.677806469511281,3.316143984061509,2.681912687038159,6.627018727430379,4.10310991983911,2.1755826413843296,2.4480963023693505,6.080475021062309,2.682352537496097,5.536011038147488,3.6849749589898932,5.857331469748099,4.170932516177871,6.499185355920494,2.5326741652082783,3.082771008453478,4.404855201746908])                                                                                                                                                                                                           |\n",
      "+------------------+----------------------------------------------------------------------------------------------------------------------------------------------------------------------------------------------------------------------------------------------------------------------------------------------------------------------------------------------------------------------------------------------------------------------------------------------------------------------------------------------------------------------------------------------------------------------------------------------------------------------------------------------------------------------------------------------------------------------------------------------------------------------------------------------------------------------------------------------------------------------------------------------------------------------------------------------------------------------------------------------------------------------------------------------------------------------------------------------------------------------------------------------------------------------------------------------------------------------------------------------------------------------------------------------------------------------------------------------------------------------------------------------------------------------------------------------------------------------------------------------------------------------------------------------------------------------------------------------------+\n",
      "only showing top 5 rows\n",
      "\n",
      "+-----------------------------------+------------------------------------------------------------------------------------------------------------------------------------------------------------------------------------------------------------------------------------------------------------------------------------------------------------------------------------------------------------------------------------------------------------------------------------------------------------------------------------------------------------------------------------------------------------------------------------------------------------------------------------------------------------------------------------------------------------------------------------------------------------------------------------------------------------------------------------------------------------------------------------------------------+\n",
      "|name                               |features                                                                                                                                                                                                                                                                                                                                                                                                                                                                                                                                                                                                                                                                                                                                                                                                                                                                                              |\n",
      "+-----------------------------------+------------------------------------------------------------------------------------------------------------------------------------------------------------------------------------------------------------------------------------------------------------------------------------------------------------------------------------------------------------------------------------------------------------------------------------------------------------------------------------------------------------------------------------------------------------------------------------------------------------------------------------------------------------------------------------------------------------------------------------------------------------------------------------------------------------------------------------------------------------------------------------------------------+\n",
      "|Golden Wok Chinese Restaurant      |(10000,[129,157,373,750,855,903,1135,1226,1413,2214,2252,2630,2663,2838,3372,4115,4890,5200,5477,5482,5780,6209,6389,6915,7074,7276,7542,8132,8297,8653,8754,8889,8904,9681,9686],[2.1957122175468915,3.4770951272458945,5.93881051516704,1.280980868050549,3.0617445668831236,3.81795236024867,3.169713010251998,2.5090895031220706,3.4528201900659283,7.120723601428243,1.4878405765295752,4.1240826499380345,4.068152830521992,2.7214972487476485,1.3510966405963447,6.563708595192878,3.388117285101422,3.6515844054968087,3.5505935588523947,8.149131631423105,3.5514470196876764,7.249935332908249,5.414323981151345,3.4028739266082946,2.35632474138595,3.01582882831099,3.1180292581789804,4.2694917518693485,2.2806010752575774,0.5100193998042353,3.901605381697627,2.773068848453607,3.819513989121524,3.0039061833540837,2.9322633282349733])                                             |\n",
      "|Double Happiness Chinese Restaurant|(10000,[157,371,528,667,1198,1336,1369,1649,1708,1821,2080,2116,2198,2335,2532,3456,3506,4032,4112,4700,4704,5594,5703,6168,6327,6369,6538,6726,6756,8157,8430,8653,8962,9011,9257,9528,9686],[3.4770951272458945,2.826121652284696,4.5354689778059605,3.7883026644585573,6.893950282063455,8.275425356747396,2.071061863241969,4.982441559725474,7.022662388252028,3.693602534756296,3.8070887127795867,4.5497319295107435,4.072456380414596,4.288937300068715,3.634553957395327,5.849942127430197,3.2554746121443565,6.069690089743268,2.5749174684710074,6.733607631988275,6.409557915365619,3.1618170101012466,8.825471693666668,1.1852203240606747,7.382481988870232,4.331233068385859,4.908129526760923,1.904931820325112,6.268244382299042,2.3155606356613347,2.471971596377858,0.5100193998042353,5.32493186867225,2.0378146282983542,4.518707543493334,8.825471693666668,2.9322633282349733])|\n",
      "|China House                        |(10000,[55,129,306,524,613,677,750,1709,2335,2911,3330,3609,3623,3783,3916,3919,4263,4538,4693,6168,6224,6390,6537,8552,9828],[5.125817166384774,2.1957122175468915,5.256878405427234,3.4363999638501674,5.884547656607673,5.6798836645683,1.280980868050549,2.2172911475352635,4.288937300068715,2.9403866997774837,2.620240757057074,6.746030151986832,3.3754351724827885,3.616714403831275,8.183617807494274,3.613802133844304,3.169246809777354,7.79585227648551,2.921473172339962,1.1852203240606747,2.4086849464066367,1.6245494120021806,4.37073687561021,4.5996116583098905,6.860693060306972])                                                                                                                                                                                                                                                                                               |\n",
      "|China House Restaurant             |(10000,[222,371,855,1221,1896,1975,2240,2550,2858,3188,3199,3372,3745,4116,6168,6683,6726,6915,6946,7074,7108,7542,7644,8297,8442,8653,8710,8754,9445],[3.8572800786809807,2.826121652284696,3.0617445668831236,5.370207090734238,4.791821200116824,4.3462427310364244,3.5684972906530144,3.066359636958206,5.521029980468821,4.941162526806038,4.203444390612154,1.3510966405963447,3.6941932603814296,2.576526582840027,1.1852203240606747,4.139336148855472,1.904931820325112,3.4028739266082946,5.07910980413937,2.35632474138595,5.393637342542623,3.1180292581789804,6.815023023473784,2.2806010752575774,2.7007883027724637,0.5100193998042353,5.575097201739097,3.901605381697627,3.730699520364213])                                                                                                                                                                                         |\n",
      "|China House                        |(10000,[619,750,903,1433,2932,2990,3919,5347,5812,7372,7751,8442,8962,9011,9482,9868],[1.5480627268676062,1.280980868050549,3.81795236024867,5.113526966621736,4.704268843941699,4.238126092591129,3.613802133844304,3.521669396888062,7.09677036040575,4.447620430403267,4.818138508434197,2.7007883027724637,5.32493186867225,2.0378146282983542,7.090870638278562,3.344693891079957])                                                                                                                                                                                                                                                                                                                                                                                                                                                                                                              |\n",
      "+-----------------------------------+------------------------------------------------------------------------------------------------------------------------------------------------------------------------------------------------------------------------------------------------------------------------------------------------------------------------------------------------------------------------------------------------------------------------------------------------------------------------------------------------------------------------------------------------------------------------------------------------------------------------------------------------------------------------------------------------------------------------------------------------------------------------------------------------------------------------------------------------------------------------------------------------------+\n",
      "only showing top 5 rows\n",
      "\n",
      "+-----------------------------------+-------------------------------------------------------------------------------------------------------------------------------------------------------------------------------------------------------------------------------------------------------------------------------------------------------------------------------------------------------------------------------------------------------------------------------------------------------------------------------------------------------------------------------------------------------------------------------------------------------------------------------------------------------------------------------------------------------------------------------------------------------------------------------------------------------------------------------------------------------------------------------------------------------------------------------------------------------------------------------------------------------------------------------------------------------------------------------------------------------------------------------------------------------------------------------------------------------------------------------------------------------------------------------------------------------------------------------------------------------------------------------------------------------------------------------------------------------------------------------------------------------------------------------------------------------+\n",
      "|name                               |features                                                                                                                                                                                                                                                                                                                                                                                                                                                                                                                                                                                                                                                                                                                                                                                                                                                                                                                                                                                                                                                                                                                                                                                                                                                                                                                                                                                                                                                                                                                                               |\n",
      "+-----------------------------------+-------------------------------------------------------------------------------------------------------------------------------------------------------------------------------------------------------------------------------------------------------------------------------------------------------------------------------------------------------------------------------------------------------------------------------------------------------------------------------------------------------------------------------------------------------------------------------------------------------------------------------------------------------------------------------------------------------------------------------------------------------------------------------------------------------------------------------------------------------------------------------------------------------------------------------------------------------------------------------------------------------------------------------------------------------------------------------------------------------------------------------------------------------------------------------------------------------------------------------------------------------------------------------------------------------------------------------------------------------------------------------------------------------------------------------------------------------------------------------------------------------------------------------------------------------+\n",
      "|Golden Wok Chinese Restaurant      |(10000,[415,627,1957,3203,3330,3372,3608,3612,3792,4723,4890,5097,6345,6429,6528,6663,6683,6764,7211,7650,7856,7956,8653,8690,8719,8790,8889,9686,9816,9826],[4.2230933114448295,3.9764289729195332,3.1638687644922734,7.136697370834263,1.5956600956168403,1.1013539677099875,2.4721703346384585,4.73705537270095,2.6415996389714036,5.256058612132173,2.3802928413087754,3.4565094248387846,6.960806704370598,8.043418651692267,5.952142652365428,7.399061635301754,3.6199987571298378,3.859552637842086,4.182187813104226,2.484019894489628,7.450354929689304,2.2638516066238674,0.6026849443030058,5.193538255150839,7.532593027926276,3.1203143500818737,1.5613311881358136,2.289939394490844,3.6332211400516887,3.220452520716561])                                                                                                                                                                                                                                                                                                                                                                                                                                                                                                                                                                                                                                                                                                                                                                                                              |\n",
      "|Golden Wok Chinese Restaurant      |(10000,[228,236,354,717,911,1018,1135,1206,1237,1369,1492,1709,1957,1959,1967,2532,2550,2564,2571,2627,2630,2866,2907,2909,2911,2926,3077,3184,3372,3506,3526,3608,3674,3731,4116,4409,4908,4950,5536,5656,5836,6168,6224,6240,6451,6494,6645,6646,6916,7139,7164,7517,7834,7889,7938,8166,8298,8566,8619,8889,9468,9605,9679,9939],[5.126935749792416,5.900555283574935,3.116164966535062,5.098979672525826,3.113752420129678,7.374369022711382,2.88628089860701,4.761791616260591,4.01467137195598,1.5170632426864774,3.158094659673186,3.930205605165783,3.1638687644922734,3.9086331199116553,6.0575031680232545,3.957042259119343,3.3420728596234217,8.69004581661732,5.158351946025795,6.462968276131419,2.8331521632669645,5.279798599435246,4.875334993664171,5.1425204808091145,2.0992453926299808,6.883248470024724,3.8267159974437686,4.778022811189174,1.1013539677099875,2.8581633393338026,4.834112277840217,2.4721703346384585,3.3151883729469485,3.275967659793667,2.9371846191401385,3.4950708015708716,5.47846929423073,3.068657296498897,3.937239631823163,4.187210425370517,3.9691148403536123,1.6308187675598982,3.216248425092045,3.86903138179663,2.036010454187149,3.521112610207359,5.076673915011528,6.610604274937483,4.781665802467674,3.4022380281811424,5.404361322077008,4.531162733257648,5.435451909147039,4.992116526983465,6.334350898309325,3.179553930125647,4.5673199618569935,3.4516714860363162,4.419712840998287,1.5613311881358136,6.77045297587938,3.0372377079453914,3.3560103674672033,3.670360687001146])|\n",
      "|Royal Oak Restaurant               |(10000,[494,557,763,980,1158,1413,1551,2543,3372,3509,3659,3712,3943,4950,5725,6441,6813,7211,7400,8653,9432],[4.801942994906825,5.155695901967679,3.3223720083183736,5.680769317955571,6.797481648267299,2.544885238473725,6.534064197815149,2.7323260936555074,1.1013539677099875,5.586682878870963,7.686743707753535,3.0027623413411533,4.754661461275999,3.068657296498897,5.923155115492175,8.60303443962769,4.920424598527348,4.182187813104226,6.83944584736633,0.6026849443030058,2.6772201425099693])                                                                                                                                                                                                                                                                                                                                                                                                                                                                                                                                                                                                                                                                                                                                                                                                                                                                                                                                                                                                                                         |\n",
      "|Double Happiness Chinese Restaurant|(10000,[129,673,681,855,911,1055,1685,1738,1780,2589,2630,2827,2981,3204,3272,3372,3546,5133,5536,5738,6010,6045,6606,6801,6875,6932,6962,7301,7587,7650,8653,8855,8864,8871,8893,9060,9371,9456,9686],[2.0578045182624605,5.47846929423073,6.334350898309325,2.705880571990949,3.113752420129678,3.9147493469290917,3.8197180682561243,3.244092451263218,3.5195618215791673,3.6419395910915697,2.8331521632669645,3.7108073765817355,7.450354929689304,5.196296877589919,7.326740973722127,1.1013539677099875,3.830938382323617,3.687320512044555,3.937239631823163,6.883248470024724,2.036362009824449,6.566152512366649,6.190101289464779,3.324919780397172,4.6926794913002405,5.562488150283906,6.544646307145686,6.0706612526007655,4.412117867780842,2.484019894489628,0.6026849443030058,4.875334993664171,4.15842431865204,3.3244947006883274,4.440252715852361,7.216740078507799,2.6203583985527867,5.166362669771875,2.289939394490844])                                                                                                                                                                                                                                                                                                                                                                                                                                                                                                                                                                                                     |\n",
      "|Golden Wok Chinese Restaurant      |(10000,[18,228,281,332,585,903,1023,1135,1241,1369,1652,1781,1821,2167,3330,3372,3919,3932,4012,4133,5139,5146,5160,5594,5748,5780,5921,6103,6151,6327,6390,6406,6470,6915,7276,8130,8325,8430,8569,8653,8754,9042,9471,9564,9681,9686],[2.4235355183190657,5.126935749792416,1.8021222562636017,2.507585323041812,3.2828740451572007,2.990819158496979,4.440252715852361,2.88628089860701,4.440252715852361,1.5170632426864774,3.584100342716739,6.681221842151436,3.1769837065701014,5.424980609279744,1.5956600956168403,1.1013539677099875,3.6131689070178195,2.8049523966730874,3.435870343299208,4.2055036184178425,2.3776512680375395,3.4268847070538606,3.2610989912573967,2.2955433470587843,5.546677544257264,2.723432985665101,6.705914454741809,2.560599566947637,3.042994039797968,6.757207749129359,1.5434884061099186,2.0524304084751663,3.0829077447785798,3.0179729403558486,2.2679801881296306,2.4961971667351563,4.544029243850898,1.8563285821639675,3.7787287237229275,0.6026849443030058,3.429713563254338,6.259627352113389,6.681221842151436,5.059662569184992,2.686383241598377,2.289939394490844])                                                                                                                                                                                                                                                                                                                                                                                                                           |\n",
      "+-----------------------------------+-------------------------------------------------------------------------------------------------------------------------------------------------------------------------------------------------------------------------------------------------------------------------------------------------------------------------------------------------------------------------------------------------------------------------------------------------------------------------------------------------------------------------------------------------------------------------------------------------------------------------------------------------------------------------------------------------------------------------------------------------------------------------------------------------------------------------------------------------------------------------------------------------------------------------------------------------------------------------------------------------------------------------------------------------------------------------------------------------------------------------------------------------------------------------------------------------------------------------------------------------------------------------------------------------------------------------------------------------------------------------------------------------------------------------------------------------------------------------------------------------------------------------------------------------------+\n",
      "only showing top 5 rows\n",
      "\n"
     ]
    }
   ],
   "source": [
    "from pyspark.ml.feature import HashingTF, IDF\n",
    "\n",
    "# Function to apply TF-IDF\n",
    "def apply_tfidf(df, feature_col):\n",
    "    # Create HashingTF\n",
    "    hashing_tf = HashingTF(inputCol=feature_col, outputCol=\"rawFeatures\", numFeatures=10000) #10000 for each 4 categories\n",
    "    featurized_data = hashing_tf.transform(df)\n",
    "    \n",
    "    # Create IDF\n",
    "    idf = IDF(inputCol=\"rawFeatures\", outputCol=\"features\")\n",
    "    idfModel = idf.fit(featurized_data)\n",
    "    tfidf_data = idfModel.transform(featurized_data)\n",
    "    \n",
    "    return tfidf_data\n",
    "\n",
    "# Apply TF-IDF to each filtered DataFrame\n",
    "tfidf_japanese_positive = apply_tfidf(df_japanese_positive, \"filtered_text\")\n",
    "tfidf_japanese_negative = apply_tfidf(df_japanese_negative, \"filtered_text\")\n",
    "tfidf_chinese_positive = apply_tfidf(df_chinese_positive, \"filtered_text\")\n",
    "tfidf_chinese_negative = apply_tfidf(df_chinese_negative, \"filtered_text\")\n",
    "\n",
    "\n",
    "# Verify the results\n",
    "tfidf_japanese_positive.select(\"name\", \"features\").show(5, truncate=False)\n",
    "tfidf_japanese_negative.select(\"name\", \"features\").show(5, truncate=False)\n",
    "tfidf_chinese_positive.select(\"name\", \"features\").show(5, truncate=False)\n",
    "tfidf_chinese_negative.select(\"name\", \"features\").show(5, truncate=False)\n",
    "\n"
   ]
  },
  {
   "cell_type": "code",
   "execution_count": 16,
   "id": "d758e396",
   "metadata": {},
   "outputs": [
    {
     "name": "stderr",
     "output_type": "stream",
     "text": [
      "                                                                                \r"
     ]
    }
   ],
   "source": [
    "# Save TF-IDF results to CSV files\n",
    "# Save TF-IDF results to Parquet files\n",
    "tfidf_japanese_positive.write.parquet(\"/home/ymusic7/metro_restaurants/tfidf_japanese_positive.parquet\")\n",
    "tfidf_japanese_negative.write.parquet(\"/home/ymusic7/metro_restaurants/tfidf_japanese_negative.parquet\")\n",
    "tfidf_chinese_positive.write.parquet(\"/home/ymusic7/metro_restaurants/tfidf_chinese_positive.parquet\")\n",
    "tfidf_chinese_negative.write.parquet(\"/home/ymusic7/metro_restaurants/tfidf_chinese_negative.parquet\")\n",
    "\n"
   ]
  },
  {
   "cell_type": "code",
   "execution_count": 17,
   "id": "c86acb6b",
   "metadata": {
    "scrolled": true
   },
   "outputs": [
    {
     "ename": "AnalysisException",
     "evalue": "[DATATYPE_MISMATCH.UNEXPECTED_INPUT_TYPE] Cannot resolve \"split(filtered_text,  , -1)\" due to data type mismatch: Parameter 1 requires the \"STRING\" type, however \"filtered_text\" has the type \"ARRAY<STRING>\".;\n'Project [name#52, lat#53, lon#54, text#55, date#56, score#57, keyword#58, addr#59, language#60, words#135, split(filtered_text#160,  , -1) AS filtered_text#510]\n+- Filter atleastnnonnulls(1, filtered_text#160)\n   +- Project [name#52, lat#53, lon#54, text#55, date#56, score#57, keyword#58, addr#59, language#60, words#135, <lambda>(words#135)#159 AS filtered_text#160]\n      +- Filter atleastnnonnulls(1, words#135)\n         +- Project [name#52, lat#53, lon#54, text#55, date#56, score#57, keyword#58, addr#59, language#60, UDF(text#55) AS words#135]\n            +- Relation [name#52,lat#53,lon#54,text#55,date#56,score#57,keyword#58,addr#59,language#60] csv\n",
     "output_type": "error",
     "traceback": [
      "\u001b[0;31m---------------------------------------------------------------------------\u001b[0m",
      "\u001b[0;31mAnalysisException\u001b[0m                         Traceback (most recent call last)",
      "\u001b[0;32m/tmp/jobs/43214127/ipykernel_40014/3663458153.py\u001b[0m in \u001b[0;36m<module>\u001b[0;34m\u001b[0m\n\u001b[1;32m      5\u001b[0m \u001b[0;34m\u001b[0m\u001b[0m\n\u001b[1;32m      6\u001b[0m \u001b[0;31m# Convert 'filtered_text' back to an array\u001b[0m\u001b[0;34m\u001b[0m\u001b[0;34m\u001b[0m\u001b[0;34m\u001b[0m\u001b[0m\n\u001b[0;32m----> 7\u001b[0;31m \u001b[0mdf_cleaned\u001b[0m \u001b[0;34m=\u001b[0m \u001b[0mdf_cleaned\u001b[0m\u001b[0;34m.\u001b[0m\u001b[0mwithColumn\u001b[0m\u001b[0;34m(\u001b[0m\u001b[0;34m'filtered_text'\u001b[0m\u001b[0;34m,\u001b[0m \u001b[0msplit\u001b[0m\u001b[0;34m(\u001b[0m\u001b[0mF\u001b[0m\u001b[0;34m.\u001b[0m\u001b[0mcol\u001b[0m\u001b[0;34m(\u001b[0m\u001b[0;34m'filtered_text'\u001b[0m\u001b[0;34m)\u001b[0m\u001b[0;34m,\u001b[0m \u001b[0;34m' '\u001b[0m\u001b[0;34m)\u001b[0m\u001b[0;34m)\u001b[0m\u001b[0;34m\u001b[0m\u001b[0;34m\u001b[0m\u001b[0m\n\u001b[0m\u001b[1;32m      8\u001b[0m \u001b[0;34m\u001b[0m\u001b[0m\n\u001b[1;32m      9\u001b[0m \u001b[0;31m# Apply TF-IDF to the cleaned DataFrame\u001b[0m\u001b[0;34m\u001b[0m\u001b[0;34m\u001b[0m\u001b[0;34m\u001b[0m\u001b[0m\n",
      "\u001b[0;32m~/.conda/envs/myenv/lib/python3.8/site-packages/pyspark/sql/dataframe.py\u001b[0m in \u001b[0;36mwithColumn\u001b[0;34m(self, colName, col)\u001b[0m\n\u001b[1;32m   5174\u001b[0m                 \u001b[0mmessage_parameters\u001b[0m\u001b[0;34m=\u001b[0m\u001b[0;34m{\u001b[0m\u001b[0;34m\"arg_name\"\u001b[0m\u001b[0;34m:\u001b[0m \u001b[0;34m\"col\"\u001b[0m\u001b[0;34m,\u001b[0m \u001b[0;34m\"arg_type\"\u001b[0m\u001b[0;34m:\u001b[0m \u001b[0mtype\u001b[0m\u001b[0;34m(\u001b[0m\u001b[0mcol\u001b[0m\u001b[0;34m)\u001b[0m\u001b[0;34m.\u001b[0m\u001b[0m__name__\u001b[0m\u001b[0;34m}\u001b[0m\u001b[0;34m,\u001b[0m\u001b[0;34m\u001b[0m\u001b[0;34m\u001b[0m\u001b[0m\n\u001b[1;32m   5175\u001b[0m             )\n\u001b[0;32m-> 5176\u001b[0;31m         \u001b[0;32mreturn\u001b[0m \u001b[0mDataFrame\u001b[0m\u001b[0;34m(\u001b[0m\u001b[0mself\u001b[0m\u001b[0;34m.\u001b[0m\u001b[0m_jdf\u001b[0m\u001b[0;34m.\u001b[0m\u001b[0mwithColumn\u001b[0m\u001b[0;34m(\u001b[0m\u001b[0mcolName\u001b[0m\u001b[0;34m,\u001b[0m \u001b[0mcol\u001b[0m\u001b[0;34m.\u001b[0m\u001b[0m_jc\u001b[0m\u001b[0;34m)\u001b[0m\u001b[0;34m,\u001b[0m \u001b[0mself\u001b[0m\u001b[0;34m.\u001b[0m\u001b[0msparkSession\u001b[0m\u001b[0;34m)\u001b[0m\u001b[0;34m\u001b[0m\u001b[0;34m\u001b[0m\u001b[0m\n\u001b[0m\u001b[1;32m   5177\u001b[0m \u001b[0;34m\u001b[0m\u001b[0m\n\u001b[1;32m   5178\u001b[0m     \u001b[0;32mdef\u001b[0m \u001b[0mwithColumnRenamed\u001b[0m\u001b[0;34m(\u001b[0m\u001b[0mself\u001b[0m\u001b[0;34m,\u001b[0m \u001b[0mexisting\u001b[0m\u001b[0;34m:\u001b[0m \u001b[0mstr\u001b[0m\u001b[0;34m,\u001b[0m \u001b[0mnew\u001b[0m\u001b[0;34m:\u001b[0m \u001b[0mstr\u001b[0m\u001b[0;34m)\u001b[0m \u001b[0;34m->\u001b[0m \u001b[0;34m\"DataFrame\"\u001b[0m\u001b[0;34m:\u001b[0m\u001b[0;34m\u001b[0m\u001b[0;34m\u001b[0m\u001b[0m\n",
      "\u001b[0;32m~/.conda/envs/myenv/lib/python3.8/site-packages/py4j/java_gateway.py\u001b[0m in \u001b[0;36m__call__\u001b[0;34m(self, *args)\u001b[0m\n\u001b[1;32m   1320\u001b[0m \u001b[0;34m\u001b[0m\u001b[0m\n\u001b[1;32m   1321\u001b[0m         \u001b[0manswer\u001b[0m \u001b[0;34m=\u001b[0m \u001b[0mself\u001b[0m\u001b[0;34m.\u001b[0m\u001b[0mgateway_client\u001b[0m\u001b[0;34m.\u001b[0m\u001b[0msend_command\u001b[0m\u001b[0;34m(\u001b[0m\u001b[0mcommand\u001b[0m\u001b[0;34m)\u001b[0m\u001b[0;34m\u001b[0m\u001b[0;34m\u001b[0m\u001b[0m\n\u001b[0;32m-> 1322\u001b[0;31m         return_value = get_return_value(\n\u001b[0m\u001b[1;32m   1323\u001b[0m             answer, self.gateway_client, self.target_id, self.name)\n\u001b[1;32m   1324\u001b[0m \u001b[0;34m\u001b[0m\u001b[0m\n",
      "\u001b[0;32m~/.conda/envs/myenv/lib/python3.8/site-packages/pyspark/errors/exceptions/captured.py\u001b[0m in \u001b[0;36mdeco\u001b[0;34m(*a, **kw)\u001b[0m\n\u001b[1;32m    183\u001b[0m                 \u001b[0;31m# Hide where the exception came from that shows a non-Pythonic\u001b[0m\u001b[0;34m\u001b[0m\u001b[0;34m\u001b[0m\u001b[0;34m\u001b[0m\u001b[0m\n\u001b[1;32m    184\u001b[0m                 \u001b[0;31m# JVM exception message.\u001b[0m\u001b[0;34m\u001b[0m\u001b[0;34m\u001b[0m\u001b[0;34m\u001b[0m\u001b[0m\n\u001b[0;32m--> 185\u001b[0;31m                 \u001b[0;32mraise\u001b[0m \u001b[0mconverted\u001b[0m \u001b[0;32mfrom\u001b[0m \u001b[0;32mNone\u001b[0m\u001b[0;34m\u001b[0m\u001b[0;34m\u001b[0m\u001b[0m\n\u001b[0m\u001b[1;32m    186\u001b[0m             \u001b[0;32melse\u001b[0m\u001b[0;34m:\u001b[0m\u001b[0;34m\u001b[0m\u001b[0;34m\u001b[0m\u001b[0m\n\u001b[1;32m    187\u001b[0m                 \u001b[0;32mraise\u001b[0m\u001b[0;34m\u001b[0m\u001b[0;34m\u001b[0m\u001b[0m\n",
      "\u001b[0;31mAnalysisException\u001b[0m: [DATATYPE_MISMATCH.UNEXPECTED_INPUT_TYPE] Cannot resolve \"split(filtered_text,  , -1)\" due to data type mismatch: Parameter 1 requires the \"STRING\" type, however \"filtered_text\" has the type \"ARRAY<STRING>\".;\n'Project [name#52, lat#53, lon#54, text#55, date#56, score#57, keyword#58, addr#59, language#60, words#135, split(filtered_text#160,  , -1) AS filtered_text#510]\n+- Filter atleastnnonnulls(1, filtered_text#160)\n   +- Project [name#52, lat#53, lon#54, text#55, date#56, score#57, keyword#58, addr#59, language#60, words#135, <lambda>(words#135)#159 AS filtered_text#160]\n      +- Filter atleastnnonnulls(1, words#135)\n         +- Project [name#52, lat#53, lon#54, text#55, date#56, score#57, keyword#58, addr#59, language#60, UDF(text#55) AS words#135]\n            +- Relation [name#52,lat#53,lon#54,text#55,date#56,score#57,keyword#58,addr#59,language#60] csv\n"
     ]
    }
   ],
   "source": [
    "from pyspark.sql.functions import split\n",
    "# Remove rows where 'filtered_text' is null\n",
    "df_cleaned = df_cleaned.na.drop(subset=[\"filtered_text\"])\n",
    "\n",
    "\n",
    "# Convert 'filtered_text' back to an array\n",
    "df_cleaned = df_cleaned.withColumn('filtered_text', split(F.col('filtered_text'), ' '))\n",
    "\n",
    "# Apply TF-IDF to the cleaned DataFrame\n",
    "tfidf_all_reviews = apply_tfidf(df_cleaned, \"filtered_text\")\n",
    "\n",
    "# Verify the results\n",
    "tfidf_all_reviews.select(\"name\", \"features\").show(5, truncate=False)\n",
    "\n"
   ]
  },
  {
   "cell_type": "code",
   "execution_count": 16,
   "id": "0e3b2e93",
   "metadata": {},
   "outputs": [
    {
     "name": "stderr",
     "output_type": "stream",
     "text": [
      "24/11/02 21:02:06 ERROR Executor: Exception in task 5.0 in stage 28.0 (TID 84)8]\n",
      "java.lang.OutOfMemoryError: Java heap space\n",
      "24/11/02 21:02:06 ERROR Executor: Exception in task 7.0 in stage 28.0 (TID 86)\n",
      "java.lang.OutOfMemoryError: Java heap space\n",
      "\tat scala.reflect.ManifestFactory$DoubleManifest.newArray(Manifest.scala:194)\n",
      "\tat scala.reflect.ManifestFactory$DoubleManifest.newArray(Manifest.scala:191)\n",
      "\tat breeze.linalg.DenseVector$mcD$sp.<init>(DenseVector.scala:67)\n",
      "\tat org.apache.spark.mllib.linalg.distributed.RowMatrix.$anonfun$computeGramianMatrix$1(RowMatrix.scala:143)\n",
      "\tat org.apache.spark.mllib.linalg.distributed.RowMatrix$$Lambda$4202/0x0000000101949040.apply(Unknown Source)\n",
      "\tat scala.collection.TraversableOnce$folder$1.apply(TraversableOnce.scala:196)\n",
      "\tat scala.collection.TraversableOnce$folder$1.apply(TraversableOnce.scala:194)\n",
      "\tat scala.collection.Iterator.foreach(Iterator.scala:943)\n",
      "\tat scala.collection.Iterator.foreach$(Iterator.scala:943)\n",
      "\tat scala.collection.AbstractIterator.foreach(Iterator.scala:1431)\n",
      "\tat scala.collection.TraversableOnce.foldLeft(TraversableOnce.scala:199)\n",
      "\tat scala.collection.TraversableOnce.foldLeft$(TraversableOnce.scala:192)\n",
      "\tat scala.collection.AbstractIterator.foldLeft(Iterator.scala:1431)\n",
      "\tat scala.collection.TraversableOnce.aggregate(TraversableOnce.scala:260)\n",
      "\tat scala.collection.TraversableOnce.aggregate$(TraversableOnce.scala:260)\n",
      "\tat scala.collection.AbstractIterator.aggregate(Iterator.scala:1431)\n",
      "\tat org.apache.spark.rdd.RDD.$anonfun$treeAggregate$4(RDD.scala:1264)\n",
      "\tat org.apache.spark.rdd.RDD$$Lambda$3999/0x000000010171b040.apply(Unknown Source)\n",
      "\tat org.apache.spark.rdd.RDD.$anonfun$treeAggregate$6(RDD.scala:1265)\n",
      "\tat org.apache.spark.rdd.RDD$$Lambda$4000/0x000000010171e040.apply(Unknown Source)\n",
      "\tat org.apache.spark.rdd.RDD.$anonfun$mapPartitions$2(RDD.scala:858)\n",
      "\tat org.apache.spark.rdd.RDD.$anonfun$mapPartitions$2$adapted(RDD.scala:858)\n",
      "\tat org.apache.spark.rdd.RDD$$Lambda$3769/0x0000000101634040.apply(Unknown Source)\n",
      "\tat org.apache.spark.rdd.MapPartitionsRDD.compute(MapPartitionsRDD.scala:52)\n",
      "\tat org.apache.spark.rdd.RDD.computeOrReadCheckpoint(RDD.scala:367)\n",
      "\tat org.apache.spark.rdd.RDD.iterator(RDD.scala:331)\n",
      "\tat org.apache.spark.rdd.MapPartitionsRDD.compute(MapPartitionsRDD.scala:52)\n",
      "\tat org.apache.spark.rdd.RDD.computeOrReadCheckpoint(RDD.scala:367)\n",
      "\tat org.apache.spark.rdd.RDD.iterator(RDD.scala:331)\n",
      "\tat org.apache.spark.shuffle.ShuffleWriteProcessor.write(ShuffleWriteProcessor.scala:59)\n",
      "\tat org.apache.spark.scheduler.ShuffleMapTask.runTask(ShuffleMapTask.scala:104)\n",
      "\tat org.apache.spark.scheduler.ShuffleMapTask.runTask(ShuffleMapTask.scala:54)\n",
      "24/11/02 21:02:06 ERROR Executor: Exception in task 4.0 in stage 28.0 (TID 83)\n",
      "java.lang.OutOfMemoryError: Java heap space\n",
      "\tat scala.reflect.ManifestFactory$DoubleManifest.newArray(Manifest.scala:194)\n",
      "\tat scala.reflect.ManifestFactory$DoubleManifest.newArray(Manifest.scala:191)\n",
      "\tat breeze.linalg.DenseVector$mcD$sp.<init>(DenseVector.scala:67)\n",
      "\tat org.apache.spark.mllib.linalg.distributed.RowMatrix.$anonfun$computeGramianMatrix$1(RowMatrix.scala:143)\n",
      "\tat org.apache.spark.mllib.linalg.distributed.RowMatrix$$Lambda$4202/0x0000000101949040.apply(Unknown Source)\n",
      "\tat scala.collection.TraversableOnce$folder$1.apply(TraversableOnce.scala:196)\n",
      "\tat scala.collection.TraversableOnce$folder$1.apply(TraversableOnce.scala:194)\n",
      "\tat scala.collection.Iterator.foreach(Iterator.scala:943)\n",
      "\tat scala.collection.Iterator.foreach$(Iterator.scala:943)\n",
      "\tat scala.collection.AbstractIterator.foreach(Iterator.scala:1431)\n",
      "\tat scala.collection.TraversableOnce.foldLeft(TraversableOnce.scala:199)\n",
      "\tat scala.collection.TraversableOnce.foldLeft$(TraversableOnce.scala:192)\n",
      "\tat scala.collection.AbstractIterator.foldLeft(Iterator.scala:1431)\n",
      "\tat scala.collection.TraversableOnce.aggregate(TraversableOnce.scala:260)\n",
      "\tat scala.collection.TraversableOnce.aggregate$(TraversableOnce.scala:260)\n",
      "\tat scala.collection.AbstractIterator.aggregate(Iterator.scala:1431)\n",
      "\tat org.apache.spark.rdd.RDD.$anonfun$treeAggregate$4(RDD.scala:1264)\n",
      "\tat org.apache.spark.rdd.RDD$$Lambda$3999/0x000000010171b040.apply(Unknown Source)\n",
      "\tat org.apache.spark.rdd.RDD.$anonfun$treeAggregate$6(RDD.scala:1265)\n",
      "\tat org.apache.spark.rdd.RDD$$Lambda$4000/0x000000010171e040.apply(Unknown Source)\n",
      "\tat org.apache.spark.rdd.RDD.$anonfun$mapPartitions$2(RDD.scala:858)\n",
      "\tat org.apache.spark.rdd.RDD.$anonfun$mapPartitions$2$adapted(RDD.scala:858)\n",
      "\tat org.apache.spark.rdd.RDD$$Lambda$3769/0x0000000101634040.apply(Unknown Source)\n",
      "\tat org.apache.spark.rdd.MapPartitionsRDD.compute(MapPartitionsRDD.scala:52)\n",
      "\tat org.apache.spark.rdd.RDD.computeOrReadCheckpoint(RDD.scala:367)\n",
      "\tat org.apache.spark.rdd.RDD.iterator(RDD.scala:331)\n",
      "\tat org.apache.spark.rdd.MapPartitionsRDD.compute(MapPartitionsRDD.scala:52)\n",
      "\tat org.apache.spark.rdd.RDD.computeOrReadCheckpoint(RDD.scala:367)\n",
      "\tat org.apache.spark.rdd.RDD.iterator(RDD.scala:331)\n",
      "\tat org.apache.spark.shuffle.ShuffleWriteProcessor.write(ShuffleWriteProcessor.scala:59)\n",
      "\tat org.apache.spark.scheduler.ShuffleMapTask.runTask(ShuffleMapTask.scala:104)\n",
      "\tat org.apache.spark.scheduler.ShuffleMapTask.runTask(ShuffleMapTask.scala:54)\n",
      "24/11/02 21:02:06 ERROR Executor: Exception in task 0.0 in stage 28.0 (TID 79)\n",
      "java.lang.OutOfMemoryError: Java heap space\n",
      "24/11/02 21:02:06 ERROR Executor: Exception in task 1.0 in stage 28.0 (TID 80)\n",
      "java.lang.OutOfMemoryError: Java heap space\n",
      "24/11/02 21:02:06 ERROR Executor: Exception in task 2.0 in stage 28.0 (TID 81)\n",
      "java.lang.OutOfMemoryError: Java heap space\n",
      "24/11/02 21:02:06 ERROR SparkUncaughtExceptionHandler: Uncaught exception in thread Thread[Executor task launch worker for task 0.0 in stage 28.0 (TID 79),5,main]\n",
      "java.lang.OutOfMemoryError: Java heap space\n",
      "24/11/02 21:02:06 ERROR SparkUncaughtExceptionHandler: Uncaught exception in thread Thread[Executor task launch worker for task 5.0 in stage 28.0 (TID 84),5,main]\n",
      "java.lang.OutOfMemoryError: Java heap space\n",
      "24/11/02 21:02:06 ERROR SparkUncaughtExceptionHandler: Uncaught exception in thread Thread[Executor task launch worker for task 2.0 in stage 28.0 (TID 81),5,main]\n",
      "java.lang.OutOfMemoryError: Java heap space\n",
      "24/11/02 21:02:06 ERROR SparkUncaughtExceptionHandler: Uncaught exception in thread Thread[Executor task launch worker for task 4.0 in stage 28.0 (TID 83),5,main]\n",
      "java.lang.OutOfMemoryError: Java heap space\n",
      "\tat scala.reflect.ManifestFactory$DoubleManifest.newArray(Manifest.scala:194)\n",
      "\tat scala.reflect.ManifestFactory$DoubleManifest.newArray(Manifest.scala:191)\n",
      "\tat breeze.linalg.DenseVector$mcD$sp.<init>(DenseVector.scala:67)\n",
      "\tat org.apache.spark.mllib.linalg.distributed.RowMatrix.$anonfun$computeGramianMatrix$1(RowMatrix.scala:143)\n",
      "\tat org.apache.spark.mllib.linalg.distributed.RowMatrix$$Lambda$4202/0x0000000101949040.apply(Unknown Source)\n",
      "\tat scala.collection.TraversableOnce$folder$1.apply(TraversableOnce.scala:196)\n",
      "\tat scala.collection.TraversableOnce$folder$1.apply(TraversableOnce.scala:194)\n",
      "\tat scala.collection.Iterator.foreach(Iterator.scala:943)\n",
      "\tat scala.collection.Iterator.foreach$(Iterator.scala:943)\n",
      "\tat scala.collection.AbstractIterator.foreach(Iterator.scala:1431)\n",
      "\tat scala.collection.TraversableOnce.foldLeft(TraversableOnce.scala:199)\n",
      "\tat scala.collection.TraversableOnce.foldLeft$(TraversableOnce.scala:192)\n",
      "\tat scala.collection.AbstractIterator.foldLeft(Iterator.scala:1431)\n",
      "\tat scala.collection.TraversableOnce.aggregate(TraversableOnce.scala:260)\n",
      "\tat scala.collection.TraversableOnce.aggregate$(TraversableOnce.scala:260)\n",
      "\tat scala.collection.AbstractIterator.aggregate(Iterator.scala:1431)\n",
      "\tat org.apache.spark.rdd.RDD.$anonfun$treeAggregate$4(RDD.scala:1264)\n",
      "\tat org.apache.spark.rdd.RDD$$Lambda$3999/0x000000010171b040.apply(Unknown Source)\n",
      "\tat org.apache.spark.rdd.RDD.$anonfun$treeAggregate$6(RDD.scala:1265)\n",
      "\tat org.apache.spark.rdd.RDD$$Lambda$4000/0x000000010171e040.apply(Unknown Source)\n",
      "\tat org.apache.spark.rdd.RDD.$anonfun$mapPartitions$2(RDD.scala:858)\n",
      "\tat org.apache.spark.rdd.RDD.$anonfun$mapPartitions$2$adapted(RDD.scala:858)\n",
      "\tat org.apache.spark.rdd.RDD$$Lambda$3769/0x0000000101634040.apply(Unknown Source)\n",
      "\tat org.apache.spark.rdd.MapPartitionsRDD.compute(MapPartitionsRDD.scala:52)\n",
      "\tat org.apache.spark.rdd.RDD.computeOrReadCheckpoint(RDD.scala:367)\n",
      "\tat org.apache.spark.rdd.RDD.iterator(RDD.scala:331)\n",
      "\tat org.apache.spark.rdd.MapPartitionsRDD.compute(MapPartitionsRDD.scala:52)\n",
      "\tat org.apache.spark.rdd.RDD.computeOrReadCheckpoint(RDD.scala:367)\n",
      "\tat org.apache.spark.rdd.RDD.iterator(RDD.scala:331)\n",
      "\tat org.apache.spark.shuffle.ShuffleWriteProcessor.write(ShuffleWriteProcessor.scala:59)\n",
      "\tat org.apache.spark.scheduler.ShuffleMapTask.runTask(ShuffleMapTask.scala:104)\n",
      "\tat org.apache.spark.scheduler.ShuffleMapTask.runTask(ShuffleMapTask.scala:54)\n",
      "24/11/02 21:02:06 ERROR SparkUncaughtExceptionHandler: Uncaught exception in thread Thread[Executor task launch worker for task 7.0 in stage 28.0 (TID 86),5,main]\n",
      "java.lang.OutOfMemoryError: Java heap space\n",
      "\tat scala.reflect.ManifestFactory$DoubleManifest.newArray(Manifest.scala:194)\n",
      "\tat scala.reflect.ManifestFactory$DoubleManifest.newArray(Manifest.scala:191)\n",
      "\tat breeze.linalg.DenseVector$mcD$sp.<init>(DenseVector.scala:67)\n",
      "\tat org.apache.spark.mllib.linalg.distributed.RowMatrix.$anonfun$computeGramianMatrix$1(RowMatrix.scala:143)\n",
      "\tat org.apache.spark.mllib.linalg.distributed.RowMatrix$$Lambda$4202/0x0000000101949040.apply(Unknown Source)\n",
      "\tat scala.collection.TraversableOnce$folder$1.apply(TraversableOnce.scala:196)\n",
      "\tat scala.collection.TraversableOnce$folder$1.apply(TraversableOnce.scala:194)\n",
      "\tat scala.collection.Iterator.foreach(Iterator.scala:943)\n",
      "\tat scala.collection.Iterator.foreach$(Iterator.scala:943)\n",
      "\tat scala.collection.AbstractIterator.foreach(Iterator.scala:1431)\n",
      "\tat scala.collection.TraversableOnce.foldLeft(TraversableOnce.scala:199)\n",
      "\tat scala.collection.TraversableOnce.foldLeft$(TraversableOnce.scala:192)\n",
      "\tat scala.collection.AbstractIterator.foldLeft(Iterator.scala:1431)\n",
      "\tat scala.collection.TraversableOnce.aggregate(TraversableOnce.scala:260)\n",
      "\tat scala.collection.TraversableOnce.aggregate$(TraversableOnce.scala:260)\n",
      "\tat scala.collection.AbstractIterator.aggregate(Iterator.scala:1431)\n",
      "\tat org.apache.spark.rdd.RDD.$anonfun$treeAggregate$4(RDD.scala:1264)\n",
      "\tat org.apache.spark.rdd.RDD$$Lambda$3999/0x000000010171b040.apply(Unknown Source)\n",
      "\tat org.apache.spark.rdd.RDD.$anonfun$treeAggregate$6(RDD.scala:1265)\n",
      "\tat org.apache.spark.rdd.RDD$$Lambda$4000/0x000000010171e040.apply(Unknown Source)\n",
      "\tat org.apache.spark.rdd.RDD.$anonfun$mapPartitions$2(RDD.scala:858)\n",
      "\tat org.apache.spark.rdd.RDD.$anonfun$mapPartitions$2$adapted(RDD.scala:858)\n",
      "\tat org.apache.spark.rdd.RDD$$Lambda$3769/0x0000000101634040.apply(Unknown Source)\n",
      "\tat org.apache.spark.rdd.MapPartitionsRDD.compute(MapPartitionsRDD.scala:52)\n",
      "\tat org.apache.spark.rdd.RDD.computeOrReadCheckpoint(RDD.scala:367)\n",
      "\tat org.apache.spark.rdd.RDD.iterator(RDD.scala:331)\n",
      "\tat org.apache.spark.rdd.MapPartitionsRDD.compute(MapPartitionsRDD.scala:52)\n",
      "\tat org.apache.spark.rdd.RDD.computeOrReadCheckpoint(RDD.scala:367)\n",
      "\tat org.apache.spark.rdd.RDD.iterator(RDD.scala:331)\n",
      "\tat org.apache.spark.shuffle.ShuffleWriteProcessor.write(ShuffleWriteProcessor.scala:59)\n",
      "\tat org.apache.spark.scheduler.ShuffleMapTask.runTask(ShuffleMapTask.scala:104)\n",
      "\tat org.apache.spark.scheduler.ShuffleMapTask.runTask(ShuffleMapTask.scala:54)\n",
      "24/11/02 21:02:06 ERROR SparkUncaughtExceptionHandler: [Container in shutdown] Uncaught exception in thread Thread[Executor task launch worker for task 1.0 in stage 28.0 (TID 80),5,main]\n",
      "java.lang.OutOfMemoryError: Java heap space\n",
      "24/11/02 21:02:06 ERROR TaskSetManager: Task 0 in stage 28.0 failed 1 times; aborting job\n",
      "----------------------------------------\n",
      "Exception happened during processing of request from ('127.0.0.1', 53518)\n",
      "ERROR:root:Exception while sending command.\n",
      "Traceback (most recent call last):\n",
      "  File \"/home/ymusic7/.conda/envs/myenv/lib/python3.8/site-packages/IPython/core/interactiveshell.py\", line 3457, in run_code\n",
      "    exec(code_obj, self.user_global_ns, self.user_ns)\n",
      "  File \"/tmp/jobs/43214127/ipykernel_38603/1213289789.py\", line 11, in <module>\n",
      "    pca_japanese_positive = apply_pca(tfidf_japanese_positive)\n",
      "  File \"/tmp/jobs/43214127/ipykernel_38603/1213289789.py\", line 6, in apply_pca\n",
      "    model = pca.fit(df)\n",
      "  File \"/home/ymusic7/.conda/envs/myenv/lib/python3.8/site-packages/pyspark/ml/base.py\", line 205, in fit\n",
      "    return self._fit(dataset)\n",
      "  File \"/home/ymusic7/.conda/envs/myenv/lib/python3.8/site-packages/pyspark/ml/wrapper.py\", line 381, in _fit\n",
      "    java_model = self._fit_java(dataset)\n",
      "  File \"/home/ymusic7/.conda/envs/myenv/lib/python3.8/site-packages/pyspark/ml/wrapper.py\", line 378, in _fit_java\n",
      "    return self._java_obj.fit(dataset._jdf)\n",
      "  File \"/home/ymusic7/.conda/envs/myenv/lib/python3.8/site-packages/py4j/java_gateway.py\", line 1322, in __call__\n",
      "    return_value = get_return_value(\n",
      "  File \"/home/ymusic7/.conda/envs/myenv/lib/python3.8/site-packages/pyspark/errors/exceptions/captured.py\", line 179, in deco\n",
      "    return f(*a, **kw)\n",
      "  File \"/home/ymusic7/.conda/envs/myenv/lib/python3.8/site-packages/py4j/protocol.py\", line 326, in get_return_value\n",
      "    raise Py4JJavaError(\n",
      "py4j.protocol.Py4JJavaError: <unprintable Py4JJavaError object>\n",
      "\n",
      "During handling of the above exception, another exception occurred:\n",
      "\n",
      "Traceback (most recent call last):\n",
      "  File \"/home/ymusic7/.conda/envs/myenv/lib/python3.8/site-packages/IPython/core/interactiveshell.py\", line 2077, in showtraceback\n",
      "    stb = value._render_traceback_()\n",
      "AttributeError: 'Py4JJavaError' object has no attribute '_render_traceback_'\n",
      "\n",
      "During handling of the above exception, another exception occurred:\n",
      "\n",
      "Traceback (most recent call last):\n",
      "  File \"/home/ymusic7/.conda/envs/myenv/lib/python3.8/site-packages/py4j/clientserver.py\", line 516, in send_command\n",
      "    raise Py4JNetworkError(\"Answer from Java side is empty\")\n",
      "py4j.protocol.Py4JNetworkError: Answer from Java side is empty\n",
      "\n",
      "During handling of the above exception, another exception occurred:\n",
      "\n",
      "Traceback (most recent call last):\n",
      "  File \"/home/ymusic7/.conda/envs/myenv/lib/python3.8/site-packages/py4j/java_gateway.py\", line 1038, in send_command\n",
      "    response = connection.send_command(command)\n",
      "  File \"/home/ymusic7/.conda/envs/myenv/lib/python3.8/site-packages/py4j/clientserver.py\", line 539, in send_command\n",
      "    raise Py4JNetworkError(\n",
      "py4j.protocol.Py4JNetworkError: Error while sending or receiving\n"
     ]
    },
    {
     "ename": "ConnectionRefusedError",
     "evalue": "[Errno 111] Connection refused",
     "output_type": "error",
     "traceback": [
      "\u001b[0;31m---------------------------------------------------------------------------\u001b[0m",
      "\u001b[0;31mPy4JJavaError\u001b[0m                             Traceback (most recent call last)",
      "    \u001b[0;31m[... skipping hidden 1 frame]\u001b[0m\n",
      "\u001b[0;32m/tmp/jobs/43214127/ipykernel_38603/1213289789.py\u001b[0m in \u001b[0;36m<module>\u001b[0;34m\u001b[0m\n\u001b[1;32m     10\u001b[0m \u001b[0;31m# Applying PCA to TF-IDF results\u001b[0m\u001b[0;34m\u001b[0m\u001b[0;34m\u001b[0m\u001b[0;34m\u001b[0m\u001b[0m\n\u001b[0;32m---> 11\u001b[0;31m \u001b[0mpca_japanese_positive\u001b[0m \u001b[0;34m=\u001b[0m \u001b[0mapply_pca\u001b[0m\u001b[0;34m(\u001b[0m\u001b[0mtfidf_japanese_positive\u001b[0m\u001b[0;34m)\u001b[0m\u001b[0;34m\u001b[0m\u001b[0;34m\u001b[0m\u001b[0m\n\u001b[0m\u001b[1;32m     12\u001b[0m \u001b[0mpca_japanese_negative\u001b[0m \u001b[0;34m=\u001b[0m \u001b[0mapply_pca\u001b[0m\u001b[0;34m(\u001b[0m\u001b[0mtfidf_japanese_negative\u001b[0m\u001b[0;34m)\u001b[0m\u001b[0;34m\u001b[0m\u001b[0;34m\u001b[0m\u001b[0m\n",
      "\u001b[0;32m/tmp/jobs/43214127/ipykernel_38603/1213289789.py\u001b[0m in \u001b[0;36mapply_pca\u001b[0;34m(df, num_components)\u001b[0m\n\u001b[1;32m      5\u001b[0m     \u001b[0mpca\u001b[0m \u001b[0;34m=\u001b[0m \u001b[0mPCA\u001b[0m\u001b[0;34m(\u001b[0m\u001b[0mk\u001b[0m\u001b[0;34m=\u001b[0m\u001b[0mnum_components\u001b[0m\u001b[0;34m,\u001b[0m \u001b[0minputCol\u001b[0m\u001b[0;34m=\u001b[0m\u001b[0;34m\"features\"\u001b[0m\u001b[0;34m,\u001b[0m \u001b[0moutputCol\u001b[0m\u001b[0;34m=\u001b[0m\u001b[0;34m\"pcaFeatures\"\u001b[0m\u001b[0;34m)\u001b[0m\u001b[0;34m\u001b[0m\u001b[0;34m\u001b[0m\u001b[0m\n\u001b[0;32m----> 6\u001b[0;31m     \u001b[0mmodel\u001b[0m \u001b[0;34m=\u001b[0m \u001b[0mpca\u001b[0m\u001b[0;34m.\u001b[0m\u001b[0mfit\u001b[0m\u001b[0;34m(\u001b[0m\u001b[0mdf\u001b[0m\u001b[0;34m)\u001b[0m\u001b[0;34m\u001b[0m\u001b[0;34m\u001b[0m\u001b[0m\n\u001b[0m\u001b[1;32m      7\u001b[0m     \u001b[0mpca_result\u001b[0m \u001b[0;34m=\u001b[0m \u001b[0mmodel\u001b[0m\u001b[0;34m.\u001b[0m\u001b[0mtransform\u001b[0m\u001b[0;34m(\u001b[0m\u001b[0mdf\u001b[0m\u001b[0;34m)\u001b[0m\u001b[0;34m\u001b[0m\u001b[0;34m\u001b[0m\u001b[0m\n",
      "\u001b[0;32m~/.conda/envs/myenv/lib/python3.8/site-packages/pyspark/ml/base.py\u001b[0m in \u001b[0;36mfit\u001b[0;34m(self, dataset, params)\u001b[0m\n\u001b[1;32m    204\u001b[0m             \u001b[0;32melse\u001b[0m\u001b[0;34m:\u001b[0m\u001b[0;34m\u001b[0m\u001b[0;34m\u001b[0m\u001b[0m\n\u001b[0;32m--> 205\u001b[0;31m                 \u001b[0;32mreturn\u001b[0m \u001b[0mself\u001b[0m\u001b[0;34m.\u001b[0m\u001b[0m_fit\u001b[0m\u001b[0;34m(\u001b[0m\u001b[0mdataset\u001b[0m\u001b[0;34m)\u001b[0m\u001b[0;34m\u001b[0m\u001b[0;34m\u001b[0m\u001b[0m\n\u001b[0m\u001b[1;32m    206\u001b[0m         \u001b[0;32melse\u001b[0m\u001b[0;34m:\u001b[0m\u001b[0;34m\u001b[0m\u001b[0;34m\u001b[0m\u001b[0m\n",
      "\u001b[0;32m~/.conda/envs/myenv/lib/python3.8/site-packages/pyspark/ml/wrapper.py\u001b[0m in \u001b[0;36m_fit\u001b[0;34m(self, dataset)\u001b[0m\n\u001b[1;32m    380\u001b[0m     \u001b[0;32mdef\u001b[0m \u001b[0m_fit\u001b[0m\u001b[0;34m(\u001b[0m\u001b[0mself\u001b[0m\u001b[0;34m,\u001b[0m \u001b[0mdataset\u001b[0m\u001b[0;34m:\u001b[0m \u001b[0mDataFrame\u001b[0m\u001b[0;34m)\u001b[0m \u001b[0;34m->\u001b[0m \u001b[0mJM\u001b[0m\u001b[0;34m:\u001b[0m\u001b[0;34m\u001b[0m\u001b[0;34m\u001b[0m\u001b[0m\n\u001b[0;32m--> 381\u001b[0;31m         \u001b[0mjava_model\u001b[0m \u001b[0;34m=\u001b[0m \u001b[0mself\u001b[0m\u001b[0;34m.\u001b[0m\u001b[0m_fit_java\u001b[0m\u001b[0;34m(\u001b[0m\u001b[0mdataset\u001b[0m\u001b[0;34m)\u001b[0m\u001b[0;34m\u001b[0m\u001b[0;34m\u001b[0m\u001b[0m\n\u001b[0m\u001b[1;32m    382\u001b[0m         \u001b[0mmodel\u001b[0m \u001b[0;34m=\u001b[0m \u001b[0mself\u001b[0m\u001b[0;34m.\u001b[0m\u001b[0m_create_model\u001b[0m\u001b[0;34m(\u001b[0m\u001b[0mjava_model\u001b[0m\u001b[0;34m)\u001b[0m\u001b[0;34m\u001b[0m\u001b[0;34m\u001b[0m\u001b[0m\n",
      "\u001b[0;32m~/.conda/envs/myenv/lib/python3.8/site-packages/pyspark/ml/wrapper.py\u001b[0m in \u001b[0;36m_fit_java\u001b[0;34m(self, dataset)\u001b[0m\n\u001b[1;32m    377\u001b[0m         \u001b[0mself\u001b[0m\u001b[0;34m.\u001b[0m\u001b[0m_transfer_params_to_java\u001b[0m\u001b[0;34m(\u001b[0m\u001b[0;34m)\u001b[0m\u001b[0;34m\u001b[0m\u001b[0;34m\u001b[0m\u001b[0m\n\u001b[0;32m--> 378\u001b[0;31m         \u001b[0;32mreturn\u001b[0m \u001b[0mself\u001b[0m\u001b[0;34m.\u001b[0m\u001b[0m_java_obj\u001b[0m\u001b[0;34m.\u001b[0m\u001b[0mfit\u001b[0m\u001b[0;34m(\u001b[0m\u001b[0mdataset\u001b[0m\u001b[0;34m.\u001b[0m\u001b[0m_jdf\u001b[0m\u001b[0;34m)\u001b[0m\u001b[0;34m\u001b[0m\u001b[0;34m\u001b[0m\u001b[0m\n\u001b[0m\u001b[1;32m    379\u001b[0m \u001b[0;34m\u001b[0m\u001b[0m\n",
      "\u001b[0;32m~/.conda/envs/myenv/lib/python3.8/site-packages/py4j/java_gateway.py\u001b[0m in \u001b[0;36m__call__\u001b[0;34m(self, *args)\u001b[0m\n\u001b[1;32m   1321\u001b[0m         \u001b[0manswer\u001b[0m \u001b[0;34m=\u001b[0m \u001b[0mself\u001b[0m\u001b[0;34m.\u001b[0m\u001b[0mgateway_client\u001b[0m\u001b[0;34m.\u001b[0m\u001b[0msend_command\u001b[0m\u001b[0;34m(\u001b[0m\u001b[0mcommand\u001b[0m\u001b[0;34m)\u001b[0m\u001b[0;34m\u001b[0m\u001b[0;34m\u001b[0m\u001b[0m\n\u001b[0;32m-> 1322\u001b[0;31m         return_value = get_return_value(\n\u001b[0m\u001b[1;32m   1323\u001b[0m             answer, self.gateway_client, self.target_id, self.name)\n",
      "\u001b[0;32m~/.conda/envs/myenv/lib/python3.8/site-packages/pyspark/errors/exceptions/captured.py\u001b[0m in \u001b[0;36mdeco\u001b[0;34m(*a, **kw)\u001b[0m\n\u001b[1;32m    178\u001b[0m         \u001b[0;32mtry\u001b[0m\u001b[0;34m:\u001b[0m\u001b[0;34m\u001b[0m\u001b[0;34m\u001b[0m\u001b[0m\n\u001b[0;32m--> 179\u001b[0;31m             \u001b[0;32mreturn\u001b[0m \u001b[0mf\u001b[0m\u001b[0;34m(\u001b[0m\u001b[0;34m*\u001b[0m\u001b[0ma\u001b[0m\u001b[0;34m,\u001b[0m \u001b[0;34m**\u001b[0m\u001b[0mkw\u001b[0m\u001b[0;34m)\u001b[0m\u001b[0;34m\u001b[0m\u001b[0;34m\u001b[0m\u001b[0m\n\u001b[0m\u001b[1;32m    180\u001b[0m         \u001b[0;32mexcept\u001b[0m \u001b[0mPy4JJavaError\u001b[0m \u001b[0;32mas\u001b[0m \u001b[0me\u001b[0m\u001b[0;34m:\u001b[0m\u001b[0;34m\u001b[0m\u001b[0;34m\u001b[0m\u001b[0m\n",
      "\u001b[0;32m~/.conda/envs/myenv/lib/python3.8/site-packages/py4j/protocol.py\u001b[0m in \u001b[0;36mget_return_value\u001b[0;34m(answer, gateway_client, target_id, name)\u001b[0m\n\u001b[1;32m    325\u001b[0m             \u001b[0;32mif\u001b[0m \u001b[0manswer\u001b[0m\u001b[0;34m[\u001b[0m\u001b[0;36m1\u001b[0m\u001b[0;34m]\u001b[0m \u001b[0;34m==\u001b[0m \u001b[0mREFERENCE_TYPE\u001b[0m\u001b[0;34m:\u001b[0m\u001b[0;34m\u001b[0m\u001b[0;34m\u001b[0m\u001b[0m\n\u001b[0;32m--> 326\u001b[0;31m                 raise Py4JJavaError(\n\u001b[0m\u001b[1;32m    327\u001b[0m                     \u001b[0;34m\"An error occurred while calling {0}{1}{2}.\\n\"\u001b[0m\u001b[0;34m.\u001b[0m\u001b[0;34m\u001b[0m\u001b[0;34m\u001b[0m\u001b[0m\n",
      "\u001b[0;31m<class 'str'>\u001b[0m: (<class 'ConnectionRefusedError'>, ConnectionRefusedError(111, 'Connection refused'))",
      "\nDuring handling of the above exception, another exception occurred:\n",
      "\u001b[0;31mConnectionRefusedError\u001b[0m                    Traceback (most recent call last)",
      "    \u001b[0;31m[... skipping hidden 1 frame]\u001b[0m\n",
      "\u001b[0;32m~/.conda/envs/myenv/lib/python3.8/site-packages/IPython/core/interactiveshell.py\u001b[0m in \u001b[0;36mshowtraceback\u001b[0;34m(self, exc_tuple, filename, tb_offset, exception_only, running_compiled_code)\u001b[0m\n\u001b[1;32m   2080\u001b[0m                                             value, tb, tb_offset=tb_offset)\n\u001b[1;32m   2081\u001b[0m \u001b[0;34m\u001b[0m\u001b[0m\n\u001b[0;32m-> 2082\u001b[0;31m                     \u001b[0mself\u001b[0m\u001b[0;34m.\u001b[0m\u001b[0m_showtraceback\u001b[0m\u001b[0;34m(\u001b[0m\u001b[0metype\u001b[0m\u001b[0;34m,\u001b[0m \u001b[0mvalue\u001b[0m\u001b[0;34m,\u001b[0m \u001b[0mstb\u001b[0m\u001b[0;34m)\u001b[0m\u001b[0;34m\u001b[0m\u001b[0;34m\u001b[0m\u001b[0m\n\u001b[0m\u001b[1;32m   2083\u001b[0m                     \u001b[0;32mif\u001b[0m \u001b[0mself\u001b[0m\u001b[0;34m.\u001b[0m\u001b[0mcall_pdb\u001b[0m\u001b[0;34m:\u001b[0m\u001b[0;34m\u001b[0m\u001b[0;34m\u001b[0m\u001b[0m\n\u001b[1;32m   2084\u001b[0m                         \u001b[0;31m# drop into debugger\u001b[0m\u001b[0;34m\u001b[0m\u001b[0;34m\u001b[0m\u001b[0;34m\u001b[0m\u001b[0m\n",
      "\u001b[0;32m~/.conda/envs/myenv/lib/python3.8/site-packages/ipykernel/zmqshell.py\u001b[0m in \u001b[0;36m_showtraceback\u001b[0;34m(self, etype, evalue, stb)\u001b[0m\n\u001b[1;32m    540\u001b[0m             \u001b[0;34m'traceback'\u001b[0m \u001b[0;34m:\u001b[0m \u001b[0mstb\u001b[0m\u001b[0;34m,\u001b[0m\u001b[0;34m\u001b[0m\u001b[0;34m\u001b[0m\u001b[0m\n\u001b[1;32m    541\u001b[0m             \u001b[0;34m'ename'\u001b[0m \u001b[0;34m:\u001b[0m \u001b[0mstr\u001b[0m\u001b[0;34m(\u001b[0m\u001b[0metype\u001b[0m\u001b[0;34m.\u001b[0m\u001b[0m__name__\u001b[0m\u001b[0;34m)\u001b[0m\u001b[0;34m,\u001b[0m\u001b[0;34m\u001b[0m\u001b[0;34m\u001b[0m\u001b[0m\n\u001b[0;32m--> 542\u001b[0;31m             \u001b[0;34m'evalue'\u001b[0m \u001b[0;34m:\u001b[0m \u001b[0mstr\u001b[0m\u001b[0;34m(\u001b[0m\u001b[0mevalue\u001b[0m\u001b[0;34m)\u001b[0m\u001b[0;34m,\u001b[0m\u001b[0;34m\u001b[0m\u001b[0;34m\u001b[0m\u001b[0m\n\u001b[0m\u001b[1;32m    543\u001b[0m         }\n\u001b[1;32m    544\u001b[0m \u001b[0;34m\u001b[0m\u001b[0m\n",
      "\u001b[0;32m~/.conda/envs/myenv/lib/python3.8/site-packages/py4j/protocol.py\u001b[0m in \u001b[0;36m__str__\u001b[0;34m(self)\u001b[0m\n\u001b[1;32m    469\u001b[0m     \u001b[0;32mdef\u001b[0m \u001b[0m__str__\u001b[0m\u001b[0;34m(\u001b[0m\u001b[0mself\u001b[0m\u001b[0;34m)\u001b[0m\u001b[0;34m:\u001b[0m\u001b[0;34m\u001b[0m\u001b[0;34m\u001b[0m\u001b[0m\n\u001b[1;32m    470\u001b[0m         \u001b[0mgateway_client\u001b[0m \u001b[0;34m=\u001b[0m \u001b[0mself\u001b[0m\u001b[0;34m.\u001b[0m\u001b[0mjava_exception\u001b[0m\u001b[0;34m.\u001b[0m\u001b[0m_gateway_client\u001b[0m\u001b[0;34m\u001b[0m\u001b[0;34m\u001b[0m\u001b[0m\n\u001b[0;32m--> 471\u001b[0;31m         \u001b[0manswer\u001b[0m \u001b[0;34m=\u001b[0m \u001b[0mgateway_client\u001b[0m\u001b[0;34m.\u001b[0m\u001b[0msend_command\u001b[0m\u001b[0;34m(\u001b[0m\u001b[0mself\u001b[0m\u001b[0;34m.\u001b[0m\u001b[0mexception_cmd\u001b[0m\u001b[0;34m)\u001b[0m\u001b[0;34m\u001b[0m\u001b[0;34m\u001b[0m\u001b[0m\n\u001b[0m\u001b[1;32m    472\u001b[0m         \u001b[0mreturn_value\u001b[0m \u001b[0;34m=\u001b[0m \u001b[0mget_return_value\u001b[0m\u001b[0;34m(\u001b[0m\u001b[0manswer\u001b[0m\u001b[0;34m,\u001b[0m \u001b[0mgateway_client\u001b[0m\u001b[0;34m,\u001b[0m \u001b[0;32mNone\u001b[0m\u001b[0;34m,\u001b[0m \u001b[0;32mNone\u001b[0m\u001b[0;34m)\u001b[0m\u001b[0;34m\u001b[0m\u001b[0;34m\u001b[0m\u001b[0m\n\u001b[1;32m    473\u001b[0m         \u001b[0;31m# Note: technically this should return a bytestring 'str' rather than\u001b[0m\u001b[0;34m\u001b[0m\u001b[0;34m\u001b[0m\u001b[0;34m\u001b[0m\u001b[0m\n",
      "\u001b[0;32m~/.conda/envs/myenv/lib/python3.8/site-packages/py4j/java_gateway.py\u001b[0m in \u001b[0;36msend_command\u001b[0;34m(self, command, retry, binary)\u001b[0m\n\u001b[1;32m   1034\u001b[0m          \u001b[0;32mif\u001b[0m\u001b[0;31m \u001b[0m\u001b[0;31m`\u001b[0m\u001b[0mbinary\u001b[0m\u001b[0;31m`\u001b[0m \u001b[0;32mis\u001b[0m\u001b[0;31m \u001b[0m\u001b[0;31m`\u001b[0m\u001b[0;32mTrue\u001b[0m\u001b[0;31m`\u001b[0m\u001b[0;34m.\u001b[0m\u001b[0;34m\u001b[0m\u001b[0;34m\u001b[0m\u001b[0m\n\u001b[1;32m   1035\u001b[0m         \"\"\"\n\u001b[0;32m-> 1036\u001b[0;31m         \u001b[0mconnection\u001b[0m \u001b[0;34m=\u001b[0m \u001b[0mself\u001b[0m\u001b[0;34m.\u001b[0m\u001b[0m_get_connection\u001b[0m\u001b[0;34m(\u001b[0m\u001b[0;34m)\u001b[0m\u001b[0;34m\u001b[0m\u001b[0;34m\u001b[0m\u001b[0m\n\u001b[0m\u001b[1;32m   1037\u001b[0m         \u001b[0;32mtry\u001b[0m\u001b[0;34m:\u001b[0m\u001b[0;34m\u001b[0m\u001b[0;34m\u001b[0m\u001b[0m\n\u001b[1;32m   1038\u001b[0m             \u001b[0mresponse\u001b[0m \u001b[0;34m=\u001b[0m \u001b[0mconnection\u001b[0m\u001b[0;34m.\u001b[0m\u001b[0msend_command\u001b[0m\u001b[0;34m(\u001b[0m\u001b[0mcommand\u001b[0m\u001b[0;34m)\u001b[0m\u001b[0;34m\u001b[0m\u001b[0;34m\u001b[0m\u001b[0m\n",
      "\u001b[0;32m~/.conda/envs/myenv/lib/python3.8/site-packages/py4j/clientserver.py\u001b[0m in \u001b[0;36m_get_connection\u001b[0;34m(self)\u001b[0m\n\u001b[1;32m    282\u001b[0m \u001b[0;34m\u001b[0m\u001b[0m\n\u001b[1;32m    283\u001b[0m         \u001b[0;32mif\u001b[0m \u001b[0mconnection\u001b[0m \u001b[0;32mis\u001b[0m \u001b[0;32mNone\u001b[0m \u001b[0;32mor\u001b[0m \u001b[0mconnection\u001b[0m\u001b[0;34m.\u001b[0m\u001b[0msocket\u001b[0m \u001b[0;32mis\u001b[0m \u001b[0;32mNone\u001b[0m\u001b[0;34m:\u001b[0m\u001b[0;34m\u001b[0m\u001b[0;34m\u001b[0m\u001b[0m\n\u001b[0;32m--> 284\u001b[0;31m             \u001b[0mconnection\u001b[0m \u001b[0;34m=\u001b[0m \u001b[0mself\u001b[0m\u001b[0;34m.\u001b[0m\u001b[0m_create_new_connection\u001b[0m\u001b[0;34m(\u001b[0m\u001b[0;34m)\u001b[0m\u001b[0;34m\u001b[0m\u001b[0;34m\u001b[0m\u001b[0m\n\u001b[0m\u001b[1;32m    285\u001b[0m         \u001b[0;32mreturn\u001b[0m \u001b[0mconnection\u001b[0m\u001b[0;34m\u001b[0m\u001b[0;34m\u001b[0m\u001b[0m\n\u001b[1;32m    286\u001b[0m \u001b[0;34m\u001b[0m\u001b[0m\n",
      "\u001b[0;32m~/.conda/envs/myenv/lib/python3.8/site-packages/py4j/clientserver.py\u001b[0m in \u001b[0;36m_create_new_connection\u001b[0;34m(self)\u001b[0m\n\u001b[1;32m    289\u001b[0m             \u001b[0mself\u001b[0m\u001b[0;34m.\u001b[0m\u001b[0mjava_parameters\u001b[0m\u001b[0;34m,\u001b[0m \u001b[0mself\u001b[0m\u001b[0;34m.\u001b[0m\u001b[0mpython_parameters\u001b[0m\u001b[0;34m,\u001b[0m\u001b[0;34m\u001b[0m\u001b[0;34m\u001b[0m\u001b[0m\n\u001b[1;32m    290\u001b[0m             self.gateway_property, self)\n\u001b[0;32m--> 291\u001b[0;31m         \u001b[0mconnection\u001b[0m\u001b[0;34m.\u001b[0m\u001b[0mconnect_to_java_server\u001b[0m\u001b[0;34m(\u001b[0m\u001b[0;34m)\u001b[0m\u001b[0;34m\u001b[0m\u001b[0;34m\u001b[0m\u001b[0m\n\u001b[0m\u001b[1;32m    292\u001b[0m         \u001b[0mself\u001b[0m\u001b[0;34m.\u001b[0m\u001b[0mset_thread_connection\u001b[0m\u001b[0;34m(\u001b[0m\u001b[0mconnection\u001b[0m\u001b[0;34m)\u001b[0m\u001b[0;34m\u001b[0m\u001b[0;34m\u001b[0m\u001b[0m\n\u001b[1;32m    293\u001b[0m         \u001b[0;32mreturn\u001b[0m \u001b[0mconnection\u001b[0m\u001b[0;34m\u001b[0m\u001b[0;34m\u001b[0m\u001b[0m\n",
      "\u001b[0;32m~/.conda/envs/myenv/lib/python3.8/site-packages/py4j/clientserver.py\u001b[0m in \u001b[0;36mconnect_to_java_server\u001b[0;34m(self)\u001b[0m\n\u001b[1;32m    436\u001b[0m                 self.socket = self.ssl_context.wrap_socket(\n\u001b[1;32m    437\u001b[0m                     self.socket, server_hostname=self.java_address)\n\u001b[0;32m--> 438\u001b[0;31m             \u001b[0mself\u001b[0m\u001b[0;34m.\u001b[0m\u001b[0msocket\u001b[0m\u001b[0;34m.\u001b[0m\u001b[0mconnect\u001b[0m\u001b[0;34m(\u001b[0m\u001b[0;34m(\u001b[0m\u001b[0mself\u001b[0m\u001b[0;34m.\u001b[0m\u001b[0mjava_address\u001b[0m\u001b[0;34m,\u001b[0m \u001b[0mself\u001b[0m\u001b[0;34m.\u001b[0m\u001b[0mjava_port\u001b[0m\u001b[0;34m)\u001b[0m\u001b[0;34m)\u001b[0m\u001b[0;34m\u001b[0m\u001b[0;34m\u001b[0m\u001b[0m\n\u001b[0m\u001b[1;32m    439\u001b[0m             \u001b[0mself\u001b[0m\u001b[0;34m.\u001b[0m\u001b[0mstream\u001b[0m \u001b[0;34m=\u001b[0m \u001b[0mself\u001b[0m\u001b[0;34m.\u001b[0m\u001b[0msocket\u001b[0m\u001b[0;34m.\u001b[0m\u001b[0mmakefile\u001b[0m\u001b[0;34m(\u001b[0m\u001b[0;34m\"rb\"\u001b[0m\u001b[0;34m)\u001b[0m\u001b[0;34m\u001b[0m\u001b[0;34m\u001b[0m\u001b[0m\n\u001b[1;32m    440\u001b[0m             \u001b[0mself\u001b[0m\u001b[0;34m.\u001b[0m\u001b[0mis_connected\u001b[0m \u001b[0;34m=\u001b[0m \u001b[0;32mTrue\u001b[0m\u001b[0;34m\u001b[0m\u001b[0;34m\u001b[0m\u001b[0m\n",
      "\u001b[0;31mConnectionRefusedError\u001b[0m: [Errno 111] Connection refused"
     ]
    },
    {
     "name": "stderr",
     "output_type": "stream",
     "text": [
      "Traceback (most recent call last):\n",
      "  File \"/home/ymusic7/.conda/envs/myenv/lib/python3.8/socketserver.py\", line 316, in _handle_request_noblock\n",
      "    self.process_request(request, client_address)\n",
      "  File \"/home/ymusic7/.conda/envs/myenv/lib/python3.8/socketserver.py\", line 347, in process_request\n",
      "    self.finish_request(request, client_address)\n",
      "  File \"/home/ymusic7/.conda/envs/myenv/lib/python3.8/socketserver.py\", line 360, in finish_request\n",
      "    self.RequestHandlerClass(request, client_address, self)\n",
      "  File \"/home/ymusic7/.conda/envs/myenv/lib/python3.8/socketserver.py\", line 747, in __init__\n",
      "    self.handle()\n",
      "  File \"/home/ymusic7/.conda/envs/myenv/lib/python3.8/site-packages/pyspark/accumulators.py\", line 295, in handle\n",
      "    poll(accum_updates)\n",
      "  File \"/home/ymusic7/.conda/envs/myenv/lib/python3.8/site-packages/pyspark/accumulators.py\", line 267, in poll\n",
      "    if self.rfile in r and func():\n",
      "  File \"/home/ymusic7/.conda/envs/myenv/lib/python3.8/site-packages/pyspark/accumulators.py\", line 271, in accum_updates\n",
      "    num_updates = read_int(self.rfile)\n",
      "  File \"/home/ymusic7/.conda/envs/myenv/lib/python3.8/site-packages/pyspark/serializers.py\", line 596, in read_int\n",
      "    raise EOFError\n",
      "EOFError\n",
      "----------------------------------------\n"
     ]
    }
   ],
   "source": [
    "from pyspark.ml.feature import PCA\n",
    "\n",
    "# Function to apply PCA\n",
    "def apply_pca(df, num_components=2):\n",
    "    pca = PCA(k=num_components, inputCol=\"features\", outputCol=\"pcaFeatures\")\n",
    "    model = pca.fit(df)\n",
    "    pca_result = model.transform(df)\n",
    "    return pca_result\n",
    "\n",
    "# Applying PCA to TF-IDF results\n",
    "pca_japanese_positive = apply_pca(tfidf_japanese_positive)\n",
    "pca_japanese_negative = apply_pca(tfidf_japanese_negative)\n",
    "pca_chinese_positive = apply_pca(tfidf_chinese_positive)\n",
    "pca_chinese_negative = apply_pca(tfidf_chinese_negative)\n",
    "\n",
    "# Show PCA results\n",
    "pca_japanese_positive.select(\"name\", \"pcaFeatures\").show(5, truncate=False)\n",
    "pca_japanese_negative.select(\"name\", \"pcaFeatures\").show(5, truncate=False)\n",
    "pca_chinese_positive.select(\"name\", \"pcaFeatures\").show(5, truncate=False)\n",
    "pca_chinese_negative.select(\"name\", \"pcaFeatures\").show(5, truncate=False)\n"
   ]
  },
  {
   "cell_type": "code",
   "execution_count": 2,
   "id": "5538e6e1",
   "metadata": {
    "scrolled": true
   },
   "outputs": [
    {
     "name": "stderr",
     "output_type": "stream",
     "text": [
      "[Stage 25:>                                                         (0 + 4) / 4]\r"
     ]
    },
    {
     "name": "stdout",
     "output_type": "stream",
     "text": [
      "An error occurred: An error occurred while calling o79.fit.\n",
      ": org.apache.spark.SparkException: Job aborted due to stage failure: Total size of serialized results of 3 tasks (1150.1 MiB) is bigger than spark.driver.maxResultSize (1024.0 MiB)\n",
      "\tat org.apache.spark.scheduler.DAGScheduler.failJobAndIndependentStages(DAGScheduler.scala:2856)\n",
      "\tat org.apache.spark.scheduler.DAGScheduler.$anonfun$abortStage$2(DAGScheduler.scala:2792)\n",
      "\tat org.apache.spark.scheduler.DAGScheduler.$anonfun$abortStage$2$adapted(DAGScheduler.scala:2791)\n",
      "\tat scala.collection.mutable.ResizableArray.foreach(ResizableArray.scala:62)\n",
      "\tat scala.collection.mutable.ResizableArray.foreach$(ResizableArray.scala:55)\n",
      "\tat scala.collection.mutable.ArrayBuffer.foreach(ArrayBuffer.scala:49)\n",
      "\tat org.apache.spark.scheduler.DAGScheduler.abortStage(DAGScheduler.scala:2791)\n",
      "\tat org.apache.spark.scheduler.DAGScheduler.$anonfun$handleTaskSetFailed$1(DAGScheduler.scala:1247)\n",
      "\tat org.apache.spark.scheduler.DAGScheduler.$anonfun$handleTaskSetFailed$1$adapted(DAGScheduler.scala:1247)\n",
      "\tat scala.Option.foreach(Option.scala:407)\n",
      "\tat org.apache.spark.scheduler.DAGScheduler.handleTaskSetFailed(DAGScheduler.scala:1247)\n",
      "\tat org.apache.spark.scheduler.DAGSchedulerEventProcessLoop.doOnReceive(DAGScheduler.scala:3060)\n",
      "\tat org.apache.spark.scheduler.DAGSchedulerEventProcessLoop.onReceive(DAGScheduler.scala:2994)\n",
      "\tat org.apache.spark.scheduler.DAGSchedulerEventProcessLoop.onReceive(DAGScheduler.scala:2983)\n",
      "\tat org.apache.spark.util.EventLoop$$anon$1.run(EventLoop.scala:49)\n",
      "\tat org.apache.spark.scheduler.DAGScheduler.runJob(DAGScheduler.scala:989)\n",
      "\tat org.apache.spark.SparkContext.runJob(SparkContext.scala:2393)\n",
      "\tat org.apache.spark.SparkContext.runJob(SparkContext.scala:2488)\n",
      "\tat org.apache.spark.rdd.RDD.$anonfun$fold$1(RDD.scala:1202)\n",
      "\tat org.apache.spark.rdd.RDDOperationScope$.withScope(RDDOperationScope.scala:151)\n",
      "\tat org.apache.spark.rdd.RDDOperationScope$.withScope(RDDOperationScope.scala:112)\n",
      "\tat org.apache.spark.rdd.RDD.withScope(RDD.scala:410)\n",
      "\tat org.apache.spark.rdd.RDD.fold(RDD.scala:1196)\n",
      "\tat org.apache.spark.rdd.RDD.$anonfun$treeAggregate$2(RDD.scala:1289)\n",
      "\tat org.apache.spark.rdd.RDDOperationScope$.withScope(RDDOperationScope.scala:151)\n",
      "\tat org.apache.spark.rdd.RDDOperationScope$.withScope(RDDOperationScope.scala:112)\n",
      "\tat org.apache.spark.rdd.RDD.withScope(RDD.scala:410)\n",
      "\tat org.apache.spark.rdd.RDD.treeAggregate(RDD.scala:1256)\n",
      "\tat org.apache.spark.rdd.RDD.$anonfun$treeAggregate$1(RDD.scala:1242)\n",
      "\tat org.apache.spark.rdd.RDDOperationScope$.withScope(RDDOperationScope.scala:151)\n",
      "\tat org.apache.spark.rdd.RDDOperationScope$.withScope(RDDOperationScope.scala:112)\n",
      "\tat org.apache.spark.rdd.RDD.withScope(RDD.scala:410)\n",
      "\tat org.apache.spark.rdd.RDD.treeAggregate(RDD.scala:1242)\n",
      "\tat org.apache.spark.mllib.linalg.distributed.RowMatrix.computeGramianMatrix(RowMatrix.scala:139)\n",
      "\tat org.apache.spark.mllib.linalg.distributed.RowMatrix.computeSparseVectorCovariance(RowMatrix.scala:227)\n",
      "\tat org.apache.spark.mllib.linalg.distributed.RowMatrix.computeCovariance(RowMatrix.scala:465)\n",
      "\tat org.apache.spark.mllib.linalg.distributed.RowMatrix.computePrincipalComponentsAndExplainedVariance(RowMatrix.scala:499)\n",
      "\tat org.apache.spark.mllib.feature.PCA.fit(PCA.scala:65)\n",
      "\tat org.apache.spark.ml.feature.PCA.fit(PCA.scala:93)\n",
      "\tat java.base/jdk.internal.reflect.NativeMethodAccessorImpl.invoke0(Native Method)\n",
      "\tat java.base/jdk.internal.reflect.NativeMethodAccessorImpl.invoke(NativeMethodAccessorImpl.java:62)\n",
      "\tat java.base/jdk.internal.reflect.DelegatingMethodAccessorImpl.invoke(DelegatingMethodAccessorImpl.java:43)\n",
      "\tat java.base/java.lang.reflect.Method.invoke(Method.java:566)\n",
      "\tat py4j.reflection.MethodInvoker.invoke(MethodInvoker.java:244)\n",
      "\tat py4j.reflection.ReflectionEngine.invoke(ReflectionEngine.java:374)\n",
      "\tat py4j.Gateway.invoke(Gateway.java:282)\n",
      "\tat py4j.commands.AbstractCommand.invokeMethod(AbstractCommand.java:132)\n",
      "\tat py4j.commands.CallCommand.execute(CallCommand.java:79)\n",
      "\tat py4j.ClientServerConnection.waitForCommands(ClientServerConnection.java:182)\n",
      "\tat py4j.ClientServerConnection.run(ClientServerConnection.java:106)\n",
      "\tat java.base/java.lang.Thread.run(Thread.java:829)\n",
      "\n"
     ]
    },
    {
     "name": "stderr",
     "output_type": "stream",
     "text": [
      "24/11/03 18:16:08 ERROR TaskSetManager: Total size of serialized results of 3 tasks (1150.1 MiB) is bigger than spark.driver.maxResultSize (1024.0 MiB)\n",
      "24/11/03 18:16:08 WARN TaskSetManager: Lost task 1.0 in stage 25.0 (TID 69) (midway2-0171.rcc.local executor driver): TaskKilled (Tasks result size has exceeded maxResultSize)\n",
      "24/11/03 18:16:08 ERROR TaskSetManager: Total size of serialized results of 4 tasks (1533.5 MiB) is bigger than spark.driver.maxResultSize (1024.0 MiB)\n",
      "24/11/03 18:16:08 WARN TaskSetManager: Lost task 3.0 in stage 25.0 (TID 71) (midway2-0171.rcc.local executor driver): TaskKilled (Tasks result size has exceeded maxResultSize)\n",
      "[Stage 25:==============>                                           (1 + 1) / 4]\r"
     ]
    }
   ],
   "source": [
    "from pyspark.sql import SparkSession\n",
    "from pyspark.ml.feature import PCA\n",
    "\n",
    "# Function to apply PCA\n",
    "def apply_pca(df, num_components=2):\n",
    "    pca = PCA(k=num_components, inputCol=\"features\", outputCol=\"pcaFeatures\")\n",
    "    model = pca.fit(df)\n",
    "    pca_result = model.transform(df)\n",
    "    return pca_result\n",
    "\n",
    "if __name__ == \"__main__\":\n",
    "    # Initialize Spark session\n",
    "    spark = SparkSession.builder \\\n",
    "        .appName(\"restaurant_analysis\") \\\n",
    "        .config(\"spark.driver.memory\", \"8g\") \\\n",
    "        .config(\"spark.executor.memory\", \"8g\") \\\n",
    "        .getOrCreate()\n",
    "\n",
    "    # Load TF-IDF DataFrames\n",
    "    tfidf_japanese_positive = spark.read.parquet(\"/home/ymusic7/metro_restaurants/tfidf_japanese_positive.parquet\")\n",
    "    tfidf_japanese_negative = spark.read.parquet(\"/home/ymusic7/metro_restaurants/tfidf_japanese_negative.parquet\")\n",
    "    tfidf_chinese_positive = spark.read.parquet(\"/home/ymusic7/metro_restaurants/tfidf_chinese_positive.parquet\")\n",
    "    tfidf_chinese_negative = spark.read.parquet(\"/home/ymusic7/metro_restaurants/tfidf_chinese_negative.parquet\")\n",
    "\n",
    "    # Apply PCA to each DataFrame one by one\n",
    "    try:\n",
    "        pca_japanese_positive = apply_pca(tfidf_japanese_positive)\n",
    "        pca_japanese_positive.select(\"name\", \"pcaFeatures\").show(5, truncate=False)\n",
    "        \n",
    "        #pca_japanese_negative = apply_pca(tfidf_japanese_negative)\n",
    "        #pca_japanese_negative.select(\"name\", \"pcaFeatures\").show(5, truncate=False)\n",
    "\n",
    "        #pca_chinese_positive = apply_pca(tfidf_chinese_positive)\n",
    "        #pca_chinese_positive.select(\"name\", \"pcaFeatures\").show(5, truncate=False)\n",
    "\n",
    "        #pca_chinese_negative = apply_pca(tfidf_chinese_negative)\n",
    "        #pca_chinese_negative.select(\"name\", \"pcaFeatures\").show(5, truncate=False)\n",
    "\n",
    "    except Exception as e:\n",
    "        print(f\"An error occurred: {e}\")\n"
   ]
  },
  {
   "cell_type": "code",
   "execution_count": null,
   "id": "4f60bc27",
   "metadata": {},
   "outputs": [],
   "source": [
    "#PCA loses interpretability: the reduced features are not easily linked to specific words or topics?"
   ]
  },
  {
   "cell_type": "code",
   "execution_count": null,
   "id": "adbeda64",
   "metadata": {},
   "outputs": [],
   "source": [
    "#Stop Spark session after completing all operations\n",
    "spark.stop()"
   ]
  }
 ],
 "metadata": {
  "kernelspec": {
   "display_name": "Python 3",
   "language": "python",
   "name": "python3"
  },
  "language_info": {
   "codemirror_mode": {
    "name": "ipython",
    "version": 3
   },
   "file_extension": ".py",
   "mimetype": "text/x-python",
   "name": "python",
   "nbconvert_exporter": "python",
   "pygments_lexer": "ipython3",
   "version": "3.11.1 (v3.11.1:a7a450f84a, Dec  6 2022, 15:24:06) [Clang 13.0.0 (clang-1300.0.29.30)]"
  },
  "vscode": {
   "interpreter": {
    "hash": "aee8b7b246df8f9039afb4144a1f6fd8d2ca17a180786b69acc140d282b71a49"
   }
  }
 },
 "nbformat": 4,
 "nbformat_minor": 5
}
